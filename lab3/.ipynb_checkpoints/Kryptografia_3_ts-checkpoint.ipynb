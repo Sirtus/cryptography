{
 "cells": [
  {
   "cell_type": "markdown",
   "metadata": {
    "id": "O4N_EaD6qK27"
   },
   "source": [
    "# RSA\n",
    "\n",
    "Rivest Shamir Adleman (RSA) jest jednym z pierwszych algorytmów asymetrycznych. Został zaprojektowany w 1977 roku i jest używany do dzisiejszego dnia. Zyskał akceptację zarówno NISTu jak i organizacji ISO/IEC oraz RFC. RSA posiada parę kluczy - publiczny oraz prywatny. Publiczny klucz może być znany każdemu i służy on do operacji szyfrowania. Klucz prywatny jest znany tylko i wyłącznie instancji, która klucze generowała. Ta sama instancja jako jedna jedyna ma możliwość odszyfrowania kryptogramów.\n",
    "\n",
    "RSA umożliwia także tworzenie podpisów cyfrowych (z ang *Digital Signatures*, czyli *DS*). Podpis cyfrowy to dodatkowy blok informacji dołączony do wiadomości, który zapewnia:\n",
    "1. *Integrity* - integralność wiadomości, czyli potwierdzenie, że nie była ona w żaden sposób modyfikowana.\n",
    "2. *Authentication* - autentykacje podpisującego, czyli potwierdzenie jego tożsamości.\n",
    "3. *Non-repudiation* - czyli wysyłający podpisaną wiadomość nie ma możliwości zaprzeczenia faktu, że to on ją podpisał, natomiast otrzymujący wiadomość nie ma możliwości zaprzeczenia faktu, iż to on ją zweryfikował. \n",
    "\n",
    "Samo haszowanie wiadomości zapewnia tylko *integirty*, natomiast utworzenie kodu MAC (*Message Authentiaction Code*) zapewnia jedynie *integrity* oraz *authentiaction*.\n",
    "\n",
    "Tworzenie podpisu cyfrowego z wykorzystaniem RSA wygląda odwrotnie niż komunikacja szyfrowana. To znaczy: podpis tworzony jest z wykorzystaniem klucza prywatnego - a więc tylko instancja generująca klucze może wiadomość podpisać. Weryfikacja odbywa się z wykorzystaniem klucza publicznego - czyli każda instancja, której nasz klucz udostępnimy, może podpis zweryfikować. \n",
    "\n",
    "Na początek zaimportujmy niezbędne biblioteki."
   ]
  },
  {
   "cell_type": "code",
   "execution_count": 1,
   "metadata": {
    "colab": {
     "base_uri": "https://localhost:8080/",
     "height": 0
    },
    "id": "F7OxWY2Mz7BD",
    "outputId": "f12182c4-b26d-40f1-c1ed-9746ee3e4746"
   },
   "outputs": [
    {
     "name": "stdout",
     "output_type": "stream",
     "text": [
      "Defaulting to user installation because normal site-packages is not writeable\n",
      "Requirement already satisfied: pycryptodome in /home/sirtus/.local/lib/python3.10/site-packages (3.17)\n"
     ]
    }
   ],
   "source": [
    "!pip install pycryptodome\n",
    "import Crypto.Util.number as cu\n",
    "import hashlib as hl\n",
    "import math"
   ]
  },
  {
   "cell_type": "markdown",
   "metadata": {
    "id": "64vuvjiEuP3M"
   },
   "source": [
    "**Zadanie 1**\n",
    "\n",
    "Odpowiedz na poniższe pytania. Rozważ sytuację, w której dwie instancje komunikują się ze sobą, a trzecia próbuje dokonywać nieautoryzowanych zmian w treści wiadomości na drodze jej przesyłu.\n",
    "1. Dlaczego haszowanie zapewnia tylko integrity? Podpowiedź: czy haszowanie uwzględnia jakikolwiek klucz prywatny?\n",
    "2. Dlaczego kod MAC nie zapewnia *non-repudiation*? Co (niepożądanego) może dokonać odbierający wiadomość i atakujący komunikację? Podpowiedź: czy kody MAC, w szczególności popularny kod HMAC - który zakłada użycie klucza prywatnego - w jakikolwiek sposób weryfikuje KTO i DO CZEGO go użył? Kto dysponuje, a kto NIE dysponuje kluczem prywatnym HMAC?\n",
    "3. Dlaczego podpis cyfrowy zapewnia wszystkie te trzy cechy?"
   ]
  },
  {
   "cell_type": "markdown",
   "metadata": {
    "id": "2qE7Uzp2xXKM"
   },
   "source": [
    "## Generowanie kluczy\n",
    "\n",
    "Algorytm generowania kluczy RSA może zostać przedstawiony w następujący sposób:\n",
    "\n",
    "1) Znajdź dwie różne i kryptograficznie bezpieczne liczby pierwsze.\n",
    "\n",
    "2) Oblicz $n = p * q$.\n",
    "\n",
    "3) Oblicz $f = (p - 1) * (q - 1)$.\n",
    "\n",
    "4) Znajdź dowolne $e$, takie, że $1 < e < f$ oraz $GCD(f, e) = 1$. GCD to największy wspólny dzielnik. Para $(e, n)$ to jest **klucz publiczny**.\n",
    "\n",
    "5) Oblicz $d = e^{-1}$ mod $f$. Para $(d, n)$ to **klucz prywatny**, przy czym tajne jest tylko $d$. "
   ]
  },
  {
   "cell_type": "markdown",
   "metadata": {
    "id": "1MRcuBhC0UHA"
   },
   "source": [
    "W ten sposób generowane parametry byłyby matematycznie poprawne, lecz kryptograficznie niebezpieczne. Ustalmy więc, że chcemy aby nasz klucz publiczny był odpwowiednio długi. Będzie to długość bitowa parametru $n$, oznaczmy ją jako $nlen = 2048$. Parametr $nlen$ zawsze przyjmuje parzyste wartości. Mając to założenie, musimy (**uwzględniając wszystkie założenia z algorytmu generowania kluczy**) dodatkowo zapewnić, że:\n",
    "\n",
    "1. $65537 ≤ e < 2^{256}$\n",
    "2. $LCM(p - 1, q - 1) \\geq e * 2^{nlen/2}$\n",
    "3. $2^{(nlen - 1)//2} < p < 2^{nlen/2}$\n",
    "4. $2^{(nlen - 1)//2} < q < 2^{nlen/2}$\n",
    "5. $|p - q| > 2^{(nlen/2) - 100}$\n",
    "\n",
    "Gdzie LCM oznacza *Least Common Multiple*, czyli najmniejszą wspólną wielokrotność. Funkcję LCM znajdziesz w bibliotece math. Do potęgowania **nie używaj** pythonowej notacji \"**\", tylko metody pow() - przetestuj obie te metody obliczania potęgi i porównaj wydajność (zadanie opcjonalne). Do obliczania wartości bezwzględnej użyj metody abs() - również standardowa metoda pythona. Resztę niezbędnych metod znajdziesz w bibliotece [Crypto.Util.number](https://pycryptodome.readthedocs.io/en/latest/src/util/util.html) zaimpoertowanej jako cu. Opis powyższych założeń możesz znaleźć w [tym](https://nvlpubs.nist.gov/nistpubs/SpecialPublications/NIST.SP.800-56Br2.pdf) dokumencie NIST-owym."
   ]
  },
  {
   "cell_type": "markdown",
   "metadata": {
    "id": "5inlXTklGGMv"
   },
   "source": [
    "**Zadanie 2**\n",
    "\n",
    "Uwzględniając wszystko powyższe, napisz metodę/metody generujące wartości $n$, $e$ oraz $d$."
   ]
  },
  {
   "cell_type": "code",
   "execution_count": 33,
   "metadata": {
    "colab": {
     "base_uri": "https://localhost:8080/",
     "height": 0
    },
    "id": "tRiOWsS7GRL9",
    "outputId": "3171dcd6-d954-4c31-d664-49732f5d26d1"
   },
   "outputs": [
    {
     "name": "stdout",
     "output_type": "stream",
     "text": [
      "nlen: 2048\n"
     ]
    }
   ],
   "source": [
    "nlen = 2048\n",
    "\n",
    "def find_p_q():\n",
    "  p = cu.getStrongPrime(1024)\n",
    "  q = cu.getStrongPrime(1024)\n",
    "  while p > pow(2, nlen//2) or p < pow(2, (nlen - 1)//2) or q > pow(2, nlen//2)\\\n",
    "         or q < pow(2, (nlen - 1)//2) or abs(p - q) < pow(2, (nlen//2) - 100):\n",
    "    p = cu.getStrongPrime(1024)\n",
    "    q = cu.getStrongPrime(1024)\n",
    "  return p, q\n",
    "\n",
    "def generate_keypair():\n",
    "  p, q = find_p_q()\n",
    "  n = p * q\n",
    "  print(\"nlen:\", len(bin(n))-2)\n",
    "  f = (p-1) * (q-1)\n",
    "  e = cu.getRandomRange(65537, min(pow(2, 256), f))\n",
    "\n",
    "  while math.gcd(e, f) != 1 or e > pow(2, 256) or math.lcm(p-1, q-1) < e*pow(2, nlen//2):\n",
    "    e = cu.getRandomRange(65537, min(pow(2, 256), f))\n",
    "\n",
    "  d = pow(e, -1, f)\n",
    "  return n, e, d\n",
    "\n",
    "n, e, d = generate_keypair()\n"
   ]
  },
  {
   "cell_type": "code",
   "execution_count": null,
   "metadata": {},
   "outputs": [],
   "source": []
  },
  {
   "cell_type": "markdown",
   "metadata": {
    "id": "wae-whoNGlz_"
   },
   "source": [
    "## Naiwne szyfrowanie i deszyfrowanie"
   ]
  },
  {
   "cell_type": "markdown",
   "metadata": {
    "id": "fESNrzCYNVfy"
   },
   "source": [
    "\n",
    "Naiwny algorytm szyfrowania wiadomości **M** z wykorzystaniem RSA:\n",
    "\n",
    "1) Zakoduj $M$ jako liczbę.\n",
    "\n",
    "2) Oblicz: $C = M^e$ mod $n$."
   ]
  },
  {
   "cell_type": "markdown",
   "metadata": {
    "id": "FQvVgWWrHBX2"
   },
   "source": [
    "Naiwny algorytm deszyfrowania kryptogramu **C** z wykorzystaniem RSA:\n",
    "\n",
    "1) $M = C^d$ mod $n$.\n",
    "\n",
    "2) Zdekoduj wiadomość $M$ do jej pierwotnej postaci (np. stringa). \n"
   ]
  },
  {
   "cell_type": "markdown",
   "metadata": {
    "id": "mFRFP0BsHc9l"
   },
   "source": [
    "**Zadanie 3**\n",
    "\n",
    "Napisz metody szyfrujące i deszyfrujące wiadomość $M$ zgodnie z powyższym algorytmem. Zaszyfruj wiadomość, zdeszyfruj i wypisz oryginalny tekst na ekranie. Odpowiedz na pytanie: jaki warunek musi spełniać liczbowa reprezentacja wiadomości $M$, aby można ją było poprawnie zaszyfrować i zdeszyfrować?"
   ]
  },
  {
   "cell_type": "code",
   "execution_count": 3,
   "metadata": {
    "colab": {
     "base_uri": "https://localhost:8080/",
     "height": 0
    },
    "id": "N3y7NMf_HkuB",
    "outputId": "2af3dacb-e1d3-4a22-8def-b4014b507fe6"
   },
   "outputs": [
    {
     "name": "stdout",
     "output_type": "stream",
     "text": [
      "[65, 108, 97, 32, 109, 97, 32, 107, 111, 116, 97]\n",
      "[6765221358408558914850663426955794121757493538366957158910742384301275966041142827012884345356251381821322266129031126301831049698222525692601605340061903712481766873369646595832391959514364270369385858704584160003058820052749578032769961901769089005402348441834098415246880713818858762060599801336594214370057921383767330553704657177079498323124643676022039189684424525962386063983458134116200094194759837705724743942045320529770131947741003761187620346849662798107204115670625996216260325236353693916072755692910845173749713532739326475542113203174155065431257330325427108841201779366186042500635249862211922593376, 19237793379259455783465935074290609005161565743148455735856750563726600850578566440415828217474922083104214983535431041759887306116536134128159105870837573349982277052034521533683212882859264123119919872038727014737478165160086733661419454776177082133101777287452976728889467673583035354819181743323981263704589425604285817666363788984527687064925550622020471258108419614226291399588076854703302773008137998647340417495770108454803237051320816882642628945744910788319989846848756083696181067605611029243527464059826045913211762221669002112054112141722373937978567054502407150940440002981706021215896918355724054447155, 4195877660051352645600543664910528478819575703534533674934746297713330591160979419299026799047151760566652677204986189178341931757916371787633320972619567946283525819272511022671572038484848658653700037706176602840325139676281971608296392392286509205055698426988846144455447846082533008534777764932088551076041001320110217047135813933913678540097205965674496912821852422211963752289751422472716025131850184443979900108882317934496259555369868485649604059218166633783307669593144228942590159499845844749922255373489088604602016862611369492440453689247420087585889961822405227112345469478371049723739998291083571322652, 5417725960251842788859764058261719472399607128750054603847340502497309805056874298095615281719208846674546415943983924274973335127266577996607914810408739934782502692003755646093610321823038990346074481430153880795005765403328491522326919812889277064066498060127236601955850892378571089106919761574499042193714658426864071840816565939509899431455097000256021285504641127505320468685476365951760624600672057212786404555508483084023319887222198649546982950843280923037940955781552431947079097511170175215407294501738222222928559702558626750609298790377494217743479939881047649096224461282773588150418493282442541456638, 11481377451456392337075838687845692739323232288627837422920733834549217057037773172184857381543843468245251390991406133419213320283883256392724256296469171968187527170964750944608437171491903170691046395272032298256814434002338272066450603782803158604264219992860422106174165268526336168627693211894275883721845065125909903323348689625441951444974586375490973560763101802817049839859407609205767816616891351535333345256937464127373201299593564346679054854547673073693318095315454696511153938261941674534748922028051352406013345691111772419000273337655908029310209164184034976764846123217736701331204239497053568630539, 4195877660051352645600543664910528478819575703534533674934746297713330591160979419299026799047151760566652677204986189178341931757916371787633320972619567946283525819272511022671572038484848658653700037706176602840325139676281971608296392392286509205055698426988846144455447846082533008534777764932088551076041001320110217047135813933913678540097205965674496912821852422211963752289751422472716025131850184443979900108882317934496259555369868485649604059218166633783307669593144228942590159499845844749922255373489088604602016862611369492440453689247420087585889961822405227112345469478371049723739998291083571322652, 5417725960251842788859764058261719472399607128750054603847340502497309805056874298095615281719208846674546415943983924274973335127266577996607914810408739934782502692003755646093610321823038990346074481430153880795005765403328491522326919812889277064066498060127236601955850892378571089106919761574499042193714658426864071840816565939509899431455097000256021285504641127505320468685476365951760624600672057212786404555508483084023319887222198649546982950843280923037940955781552431947079097511170175215407294501738222222928559702558626750609298790377494217743479939881047649096224461282773588150418493282442541456638, 1220763247625317774616893142461508265250426431695154131059840945549701848052587544039032188898186515181128982926900476512787004899612180961042158838007315507904454018640926121731159852977090806184875654257516828576816123694210022788816242158919707061560510219474466774650247358531389850278287739947976140644508849309376684844237827303681815244656078282350494447211942092604490544829203449573220853813577875439529726884809513392360977745672611514393147582964013761505422798970776338815331749187068858881883888149818812358082503938282914058321451112176414901681377881114818782546101719404981851699483103088763206446342, 16018856662458334769183454743198844560766087968433222914350710584180959992259324261551429037580728205781157511369723033282776656808111803137023930902751604816588532336611345055373683198111658588145896380050508238583382162506290207490542766339897544124427919798179593229114209370655400687550060599730855933200516917877593702242255164516008494874541789664657417285422086486441432621357247393711660079978631076719404286201962061175141631235915818613551833400966099391851155056812297908379912616763329374012993439681963799580944697776095570537234986054562828329686239716526134545751539660789767647873271818531934315614763, 7266602346645790297696872394264727571122808663651929152758790984248213778472383930454653743729868963202479672958373791497246654301238154256109311241588689158822286273550192058544364817164866729362997590673159317685510741176446577057603850058330778783482486916686754773014080184575295782505549146306297142921256365756191446927936584548898857978223733369038032206918487911290020013374087350826994173261513954715116175802164292331848080495035105311973587699476793641587389173240464436819441294254727649368799843830894254443766141741778712976193394929215924003437368769305738480445490292432915563968479287996990320700489, 4195877660051352645600543664910528478819575703534533674934746297713330591160979419299026799047151760566652677204986189178341931757916371787633320972619567946283525819272511022671572038484848658653700037706176602840325139676281971608296392392286509205055698426988846144455447846082533008534777764932088551076041001320110217047135813933913678540097205965674496912821852422211963752289751422472716025131850184443979900108882317934496259555369868485649604059218166633783307669593144228942590159499845844749922255373489088604602016862611369492440453689247420087585889961822405227112345469478371049723739998291083571322652]\n"
     ]
    }
   ],
   "source": [
    "M = \"Ala ma kota\"\n",
    "\n",
    "# Your code here\n",
    "\n",
    "# encryption\n",
    "M_num = [ord(c) for c in M]\n",
    "print(M_num)\n",
    "C = [pow(m, e, n) for m in M_num]\n",
    "print(C)\n",
    "\n"
   ]
  },
  {
   "cell_type": "code",
   "execution_count": 39,
   "metadata": {
    "colab": {
     "base_uri": "https://localhost:8080/"
    },
    "id": "_OyTS9CsUblF",
    "outputId": "7ef807a9-c5b6-4521-eefc-0bc86b765705"
   },
   "outputs": [
    {
     "name": "stdout",
     "output_type": "stream",
     "text": [
      "message number  79091985525906541409956961\n",
      "ciphertext:  22041786181205080370767482076083669995741196525557261344824216089410645382901350787065165729887633414458079459685169577752099232019404006208528739546616780068187827358377753316572706903785949673090822216115243385211016601264631718214627061929296233804120073550425471495973710424133340450617673779492894549991129818221793868099041334272691577661742276915156204634631594290724478217486980332519466882046653164057144193460885657530157370645920372748376877967761427005675175348529979436219615058418220807927677091624767336027416191052388045326962698096499901438295660148297265543166349379106010986885925467547783554653430\n",
      "decrypted message number  79091985525906541409956961\n",
      "decrypted message  Ala ma kota\n"
     ]
    }
   ],
   "source": [
    "def encode_str(s):\n",
    "  s_num = ''.join([hex(ord(c))[2:].zfill(2) for c in s])\n",
    "  return int(s_num, 16)\n",
    "\n",
    "# encryption\n",
    "\n",
    "def encrypt(e, n, mes):\n",
    "  m_num = encode_str(mes)\n",
    "  print('message number ', m_num)\n",
    "  c = pow(m_num, e, n)\n",
    "  return c\n",
    "\n",
    "\n",
    "# decryption\n",
    "\n",
    "def decrypt(d, n, c):\n",
    "  m_decrypted = pow(c, d, n)\n",
    "  print('decrypted message number ', m_decrypted)\n",
    "  message = ''\n",
    "  m_dec = m_decrypted\n",
    "  while m_dec:\n",
    "    m = m_dec & 0xFF\n",
    "    message = chr(m) + message\n",
    "    m_dec = m_dec >> 8\n",
    "  return message\n",
    "\n",
    "\n",
    "M = \"Ala ma kota\"\n",
    "\n",
    "C = encrypt(e, n, M)\n",
    "print('ciphertext: ', C)\n",
    "\n",
    "message = decrypt(d, n, C)\n",
    "print('decrypted message ', message)"
   ]
  },
  {
   "cell_type": "markdown",
   "metadata": {
    "id": "NjF8Fr_dN0s6"
   },
   "source": [
    "## Naiwny schemat podpisu cyfrowego"
   ]
  },
  {
   "cell_type": "markdown",
   "metadata": {
    "id": "AsvkSf9zN4i8"
   },
   "source": [
    "Naiwna metoda tworzenia podpisu z wiadmości $M$:\n",
    "\n",
    "1) Oblicz $h = H(M)$. H to uzgodniona funkcja skrótu, niech to będzie SHA-256.\n",
    "\n",
    "2) Zakoduj $h$ jako liczbę.\n",
    "\n",
    "3) Oblicz $SIG = h^d$ mod $n$.\n",
    "\n",
    "4) Wyślij parę $(M, SIG)$ weryfikującemu."
   ]
  },
  {
   "cell_type": "markdown",
   "metadata": {
    "id": "xcMiT4DhOoOt"
   },
   "source": [
    "Naiwna metoda weryfikacji podpisu $(M, SIG)$:\n",
    "\n",
    "1) Oblicz $h = H(M)$. H to uzgodniona funkcja skrótu, niech to będzie SHA-256.\n",
    "\n",
    "2) Zakoduj $h$ jako liczbę.\n",
    "\n",
    "3) Oblicz $VER = SIG^e$ mod $n$.\n",
    "\n",
    "4) Jeżeli $VER = h$, weryfikacja przebiegła pomyślnie, a w przeciwnym razie niepomyślnie."
   ]
  },
  {
   "cell_type": "markdown",
   "metadata": {
    "id": "Jx86zFg6PDDs"
   },
   "source": [
    "**Zadanie 4**\n",
    "\n",
    "Zaimplementuj naiwną metodę tworzenia i weryfikowania podpisu cyfrowego RSA."
   ]
  },
  {
   "cell_type": "code",
   "execution_count": 5,
   "metadata": {
    "colab": {
     "base_uri": "https://localhost:8080/"
    },
    "id": "Y7OSfmf0PJ2Q",
    "outputId": "ec2d1cf5-177f-4316-affb-cdc0935afb3a"
   },
   "outputs": [
    {
     "name": "stdout",
     "output_type": "stream",
     "text": [
      "3175029679260064701034354008253027848579114251507577648533673241227722085474180391412764225172211872297980184852091183392328780448947443227668323423902427836360609421467219352676156870468319460294165123151207989665019946115162175199702619467211362792517273278605030586878939184519770036750125435296282357231669198804278654285604590847651668968619319605796061030034265319431736211631048709049824885048532566817232142636681913090352345411882609337624531826720157726240857813669903201614732910888574895583889228680626758135413587507089963399403026755545393467178170365601177152656733810587807577145750212976984044611405\n",
      "\n",
      "2576609446136810321284793642849579379527454191856329747264527660897419943862306273701113910862743553954351156540019741177436361715134805108682805972579941\n",
      "2576609446136810321284793642849579379527454191856329747264527660897419943862306273701113910862743553954351156540019741177436361715134805108682805972579941\n",
      "True\n"
     ]
    }
   ],
   "source": [
    "M = \"Ala ma kota\"\n",
    "\n",
    "hash_object = hl.sha256(M.encode())\n",
    "h = hash_object.hexdigest()\n",
    "h = encode_str(h)\n",
    "SIG = pow(h, d, n)\n",
    "print(SIG)\n",
    "\n",
    "VER = pow(SIG, e, n)\n",
    "print()\n",
    "print(VER)\n",
    "print(h)\n",
    "print(VER == h)"
   ]
  },
  {
   "cell_type": "markdown",
   "metadata": {
    "id": "-6MsXDuaIj2C"
   },
   "source": [
    "## MGF 1\n",
    "\n",
    "W dalszej części laboratoriów będziemy potrzebowali generować maskę. Jedynym zatwierdzonym algorytmem który do tego służy jest *Mask Generation Function 1*, opisany w [RFC 8017](https://www.rfc-editor.org/rfc/rfc8017). Jest on stosunkowo prosty. "
   ]
  },
  {
   "cell_type": "markdown",
   "metadata": {
    "id": "wXuwYrpsJzkU"
   },
   "source": [
    "Parametry wejściowe:\n",
    "\n",
    "1) M - bajty wiadomości.\n",
    "\n",
    "2) len - pożądana długość zwórconej maski w bajtach.\n",
    "\n",
    "3) H - wybrana funkcja skrótu, zwracająca $n$ bitowy skrót. Niech to będzie SHA-256. Dla wygody przyjmijmy też, że $hlen = n / 8$ oznacza liczbę bajtów zwracaną przez naszą funkcję skrótu.\n",
    "\n",
    "Wyjściem funkcji są bajty tworzące maskę."
   ]
  },
  {
   "cell_type": "markdown",
   "metadata": {
    "id": "oriQJLCvJ0vM"
   },
   "source": [
    "Algorytm MGF-1:\n",
    "\n",
    "1) Dla 32-biotwego integera $i = 0, ..., ⌈ \\frac{len}{hlen}⌉ - 1$ wykonuj kroki 2 i 3.\n",
    "\n",
    "2) Oblicz tmp = H(M || i). Znak || to konkatenacja i chodzi tu o bajty wiadomości M oraz reprezentację w bajtach 32-bitowego itegera $i$.\n",
    "\n",
    "3) Oblicz output = output || tmp.\n",
    "\n",
    "4) Zwróc $len$ wiodących bajtów zmiennej output."
   ]
  },
  {
   "cell_type": "markdown",
   "metadata": {
    "id": "o-AkA1mHK7cp"
   },
   "source": [
    "**Zadanie 5**\n",
    "\n",
    "Zaprogramuj i przetestuj dla dowolnych wartości funkcję MGF1."
   ]
  },
  {
   "cell_type": "code",
   "execution_count": 82,
   "metadata": {
    "colab": {
     "base_uri": "https://localhost:8080/"
    },
    "id": "rrBuKJWZLCV9",
    "outputId": "09c3db9b-2823-4c48-8a6d-677b4e3f2516"
   },
   "outputs": [
    {
     "name": "stdout",
     "output_type": "stream",
     "text": [
      "b'O\\x82y,\\xd5\\x98\\x18\\xc5B7\\xc4YT\\xe6\\xfa\\x82\\xdd\\x08\\xc8\\x8d\\x9b?\\xb2\\xe2X3\\x1c\\tf%d\\x18\\xd6,\\xad\\x91\\x8eH\\x9e\\xa6\\x1b\\xf7m\\xd4\\xfcu\\xf5L\\x0f&\\x94\\x10\\x1a\\x89\\xf0e\\xcdx\\xb3\\xa3?\\x7f\\xca\\xbd.M#C\"\\xb4B\\x8d\\xd3\\xb1GB\\xe3y5\\xc9 \\xd4\\t`B\\xfa\\xa9\\x9e\\x0c#\\xea4Hb\\xe0\\x02\\xbd\\xdeG\\xd2\\x15\\xfd\\xff\\xc7f|\\x18~\\x84{B\\xa8O\\xa6\\xe1\\xd4\\x9e=\\x1d\\xf5Q65$\\xd2\\xeeE#'\n"
     ]
    }
   ],
   "source": [
    "def mgf1(M, length):\n",
    "  hlen = 256 // 8\n",
    "  iter = math.ceil(length / hlen)\n",
    "  output = bytes()\n",
    "\n",
    "  for i in range(iter):\n",
    "    tmp = M + i.to_bytes(4, byteorder='big')\n",
    "    h = hl.sha256(tmp).digest()\n",
    "    output = output + h\n",
    "  return output[:length]\n",
    "\n",
    "M = \"Ala ma kota\"\n",
    "print(mgf1(M.encode(), 128))"
   ]
  },
  {
   "cell_type": "markdown",
   "metadata": {
    "id": "K3gM9vGyPtna"
   },
   "source": [
    "## OAEP\n",
    "\n",
    "Nasz schemat ma na ten moment jedną sporą wadę, mianowicie rozmiar szyfrowanej wiadomości może być zbyt mały, czyniąc algorytm mniej bezpiecznym. Aby tego uniknąć, używamy algorytmu paddingu opisanego w [RFC 8017](https://www.rfc-editor.org/rfc/rfc8017#section-8), który zwie się *Optimal Assymetric Encryption Padding*."
   ]
  },
  {
   "cell_type": "markdown",
   "metadata": {
    "id": "PFJW4wW5QjjH"
   },
   "source": [
    "### OAEP encoding"
   ]
  },
  {
   "cell_type": "markdown",
   "metadata": {
    "id": "0BTXF8j6Reel"
   },
   "source": [
    "Parametry wejściowe:\n",
    "\n",
    "1) $H$ - funkcja skrótu SHA-256, oraz $hlen$ czyli długość zwracanego skrótu w bajtach.\n",
    "\n",
    "2) $k$ - długość liczby $n$ wyrażona w bajtach.\n",
    "\n",
    "3) $mlen$ - długość wiadomości wyrażona w bajtach.\n",
    "\n",
    "4) $M$ - bajty wiadomości.\n",
    "\n",
    "5) $mgf1$ - Mask Generation Function 1."
   ]
  },
  {
   "cell_type": "markdown",
   "metadata": {
    "id": "YWse9bSFRfmu"
   },
   "source": [
    "Algorytm:\n",
    "\n",
    "1) Jeżeli $mlen > k - 2*hlen - 2$ zwróc błąd.\n",
    "\n",
    "2) Oblicz: $lHash = H(\"\")$.\n",
    "\n",
    "3) Wygeneruj tablicę bajtów $PS$ składającą się z $k - mlen - 2*hlen - 2$ bajtów o wartości 0x00. Rozmiar $PS$ może wynosić 0.\n",
    "\n",
    "4) Oblicz: $DB = lHash || PS || 0x01 || M$. Długość $DB$ powinna wynosić $k - hlen - 1$ bajtów.\n",
    "\n",
    "5) Wygeneruj losową tablicę bajtów $seed$ o rozmiarze $hlen$.\n",
    "\n",
    "6) Oblicz: $dbMask = mgf1(seed, k - hlen - 1)$.\n",
    "\n",
    "7) Oblicz: $maskedDB = DB ⊕ dbMask$.\n",
    "\n",
    "8) Oblicz: $seedMask = mgf1(maskedDB, hlen)$.\n",
    "\n",
    "9) Oblicz: $maskedSeed = seed ⊕ seedMask$.\n",
    "\n",
    "10) Oblicz: $EM = 0x00 || maskedSeed || maskedDB$. Długość $EM$ powinna wynosić $k$.\n",
    "\n",
    "11) Zwróc $EM$."
   ]
  },
  {
   "cell_type": "markdown",
   "metadata": {
    "id": "lwJfZ28SUeKC"
   },
   "source": [
    "### OAEP decoding"
   ]
  },
  {
   "cell_type": "markdown",
   "metadata": {
    "id": "i21JfT9TUlXN"
   },
   "source": [
    "Parametry wejściowe:\n",
    "\n",
    "1) $H$ - funkcja skrótu SHA-256, oraz $hlen$ czyli długość zwracanego skrótu w bajtach.\n",
    "\n",
    "2) $k$ - rozmiar EM wyrażony w bajtach.\n",
    "\n",
    "3) $mgf1$ - Mask Generation Function 1.\n",
    "\n",
    "4) $EM$ - bajty zakodowanej wiadomości."
   ]
  },
  {
   "cell_type": "markdown",
   "metadata": {
    "id": "Toe-FHBzU1n-"
   },
   "source": [
    "Algorytm:\n",
    "\n",
    "1) Rozpakuj tablicę bajtów $EM$. Jej pierwszy bajt (najbardziej znaczący) przypisz do $Y$. Kolejne $hlen$ bajtów przypisz do $maskedSeed$, resztę do $maskedDB$. Czyli $EM = Y || maskedSeed || maskedDB$.\n",
    "\n",
    "2) Oblicz: $lHash = H(\"\")$.\n",
    "\n",
    "3) Oblicz: $seedMask = mgf1(maskedDB, hlen)$.\n",
    "\n",
    "4) Oblicz: $seed = maskedSeed ⊕ seedMask$.\n",
    "\n",
    "5) Oblicz: $dbMask = mgf1(seed, k - hlen - 1)$.\n",
    "\n",
    "6) Oblicz: $DB = maskedDB ⊕ dbMask$.\n",
    "\n",
    "7) Rozpkauj tablicę bakjtów $DB$. Pierwsze (najbardziej znaczące) $hlen$ bajtów przypisz do zmiennej $lHash'$. Następne $k - mlen - 2*hlen - 2$ bajtów do PS. Kolejny pojedynczy bajt powinien wynosić 0x01, jeżeli jest inaczej zwróć błąd i **zakończ działanie**. Resztę bajtów przypsiz do zmiennej $M$. Czyli: $DB = lHash' || PS || 0x01 || M$. \n",
    "\n",
    "8) Jeżeli $Y \\neq 0x00$ zwróć błąd i **zakończ działanie**.\n",
    "\n",
    "9) Jeżeli $lHash \\neq lHash'$ zwróć błąd i **zakończ działanie**.\n",
    "\n",
    "10) Zwróc $M$."
   ]
  },
  {
   "cell_type": "markdown",
   "metadata": {
    "id": "A0yx2wepX4n1"
   },
   "source": [
    "**Zadanie 6**\n",
    "\n",
    "Zaproogramuj kodowanie i dekodowanie OAEP. Zmodyfikuj algorytm szyfrowania RSA, tak, aby przed zaszyfrowaniem wiadomość była paddingowana. Zmodyfikuj algorytm deszyfrowania tak, aby po zdeszyfrowaniu konieczne było wywołanie metody dekodowania OAEP w celu odzyskania wiadomości."
   ]
  },
  {
   "cell_type": "code",
   "execution_count": 83,
   "metadata": {
    "colab": {
     "base_uri": "https://localhost:8080/"
    },
    "id": "sA1oCpziYT6z",
    "outputId": "6b426225-5f77-4e20-e342-ed54e7750338"
   },
   "outputs": [
    {
     "data": {
      "text/plain": [
       "b'Ala ma kota'"
      ]
     },
     "execution_count": 83,
     "metadata": {},
     "output_type": "execute_result"
    }
   ],
   "source": [
    "import random\n",
    "\n",
    "M = \"Ala ma kota\"\n",
    "\n",
    "# Your code here\n",
    "\n",
    "def xor_bytes(a, b):\n",
    "  result = bytes(x ^ y for x, y in zip(a, b))\n",
    "  return result\n",
    "\n",
    "def oaep_encoding(k, M):\n",
    "  hlen = 256 // 8\n",
    "  mlen = len(M)\n",
    "\n",
    "  if mlen > k - 2 * hlen - 2:\n",
    "    print('ERROR')\n",
    "    return None\n",
    "  \n",
    "  lHash = hl.sha256(\"\".encode()).digest()\n",
    "  PS = b'\\x00' * (k - mlen - 2 * hlen - 2)\n",
    "  DB = lHash + PS + b'\\x01' + M\n",
    "\n",
    "  seed = random.randbytes(hlen)\n",
    "  dbMask = mgf1(seed, k-hlen-1)\n",
    "  maskedDB = xor_bytes(dbMask, DB)\n",
    "\n",
    "  seedMask = mgf1(maskedDB, hlen)\n",
    "  maskedSeed = xor_bytes(seedMask, seed)\n",
    "  \n",
    "  EM = b'\\x00' + maskedSeed + maskedDB\n",
    "  return EM\n",
    "\n",
    "def oaep_decoding(k, EM, mlen):\n",
    "  hlen = 256 // 8\n",
    "  Y = EM[0]\n",
    "  maskedSeed = EM[1:hlen+1]\n",
    "  maskedDB = EM[hlen+1:]\n",
    "  lHash = hl.sha256(\"\".encode()).digest()\n",
    "  seedMask = mgf1(maskedDB, hlen)\n",
    "  seed = xor_bytes(seedMask, maskedSeed)\n",
    "  dbMask = mgf1(seed, k-hlen-1)\n",
    "  DB = xor_bytes(maskedDB, dbMask)\n",
    "  lHashPrime = DB[:hlen]\n",
    "  PS = DB[hlen:hlen + (k - mlen - 2*hlen -2)]\n",
    "\n",
    "  if DB[hlen + (k - mlen - 2*hlen -2)] != 0x01:\n",
    "    print(\"ERROR 0\")\n",
    "    return None\n",
    "  M = DB[hlen + (k - mlen - 2*hlen -2)+1:]\n",
    "\n",
    "  if lHashPrime != lHash:\n",
    "    print('ERROR 1')\n",
    "    return None\n",
    "  return M\n",
    "\n",
    "\n",
    "EM = oaep_encoding(nlen//8, M.encode())\n",
    "oaep_decoding(len(EM), EM, len(M.encode()))"
   ]
  },
  {
   "cell_type": "code",
   "execution_count": 97,
   "metadata": {},
   "outputs": [
    {
     "name": "stdout",
     "output_type": "stream",
     "text": [
      "b'Ala ma kota'\n",
      "message number  125795115250138256507875777437404082649927800589189791791588146843220142726033742063418471494963626176195878819112177456565734263458711678793638210385003623294711966752456247237495441692185008756933579264583169690481286081077564339090529824390225709326085237476163947536294647669556766236521273576863707847955898769515737941625545572455974510637272042599871760206482897509646220055646292837505111594119817918195815950805634655498749720451489457198014343201444675893351426808330453814415226468974253079262173274460766091098377820269718757169979856201892932425740993012281442938911309358560180286001982756125258030722\n",
      "\n",
      "\n",
      "\n",
      "18762851908873984711845503888820471311991902084974186297439283166437952165036577313035714199580626215342187174686707935213910172030987538421736788774894777883737247233397753531840025539247657719332318064897680011293642229312041047416009464539973361078874936153263986129913010253152488403895459793670176392284623809683026552411271120411515529999375263998305750777839960639154228878733071858747684054855368699846310992790749891905368847742247396738928862672050673544418100961073930642635607700555083461756183028877662829527898690759567295173878381799347313261033772985419602047734653331496871302415143664532265775493740\n",
      "\n",
      "\n",
      "\n",
      "decrypted message number  125795115250138256507875777437404082649927800589189791791588146843220142726033742063418471494963626176195878819112177456565734263458711678793638210385003623294711966752456247237495441692185008756933579264583169690481286081077564339090529824390225709326085237476163947536294647669556766236521273576863707847955898769515737941625545572455974510637272042599871760206482897509646220055646292837505111594119817918195815950805634655498749720451489457198014343201444675893351426808330453814415226468974253079262173274460766091098377820269718757169979856201892932425740993012281442938911309358560180286001982756125258030722\n",
      "255\n"
     ]
    },
    {
     "data": {
      "text/plain": [
       "b'Ala ma kota'"
      ]
     },
     "execution_count": 97,
     "metadata": {},
     "output_type": "execute_result"
    }
   ],
   "source": [
    "def encrypt_oaep(e, n, mes):\n",
    "  print(mes)\n",
    "  m_num = oaep_encoding(nlen//8, mes)\n",
    "  m_num = int.from_bytes(m_num, byteorder='big')\n",
    "  print('message number ', m_num)\n",
    "  c = pow(m_num, e, n)\n",
    "  return c\n",
    "\n",
    "def decrypt_oaep(d, n, c, mlen):\n",
    "  m_decrypted = pow(c, d, n)\n",
    "  print('decrypted message number ', m_decrypted)\n",
    "  num_bytes = (m_decrypted.bit_length() + 7) // 8\n",
    "  print(num_bytes)\n",
    "  m_decrypted = m_decrypted.to_bytes(nlen//8, byteorder='big')\n",
    "  message = oaep_decoding(nlen//8, m_decrypted, mlen)\n",
    "  return message\n",
    "\n",
    "\n",
    "EM = encrypt_oaep(e, n, M.encode())\n",
    "print('\\n\\n')\n",
    "print(EM)\n",
    "print('\\n\\n')\n",
    "decrypt_oaep(d, n, EM, len(M.encode()))"
   ]
  },
  {
   "cell_type": "markdown",
   "metadata": {
    "id": "ug2e_I03YoR1"
   },
   "source": [
    "## EMSA - PSS\n",
    "\n",
    "Utworzenie bezpiecznej sygnatury RSA wymaga zastowania algorytmu *Encoding Method for Signature with Appendix - Probabilistic Signature Scheme* ."
   ]
  },
  {
   "cell_type": "markdown",
   "metadata": {
    "id": "KrWpFTRHZSA7"
   },
   "source": [
    "### EMSA encoding"
   ]
  },
  {
   "cell_type": "markdown",
   "metadata": {
    "id": "bNPN9mqIZT5F"
   },
   "source": [
    "Parametry wejściowe:\n",
    "\n",
    "1) $H$ - funkcja skrótu SHA-256, oraz $hlen$ czyli długość zwracanego skrótu w bajtach.\n",
    "\n",
    "2) $slen$ - długość soli w bajtach, powinna być równa $hlen$.\n",
    "\n",
    "3) $M$ - bajty wiadomości do podpisania.\n",
    "\n",
    "4) $mgf1$ - Mask Generation Function 1.\n",
    "\n",
    "5) $emBits$ - pożądana długość sygnatury w bitach. Jest to najczęściej długość bitowa liczby modulus $n$ pomniejszona o jeden, czyli w naszym przypadku 2047.\n",
    "\n",
    "6) $emlen$ - długość sygnatury w bajtach, równa długości parametru $n$ wyrażonego w bajtach.\n"
   ]
  },
  {
   "cell_type": "markdown",
   "metadata": {
    "id": "6-0Vzuzf_f81"
   },
   "source": [
    "Algorytm:\n",
    "\n",
    "1) Oblicz: $mHash = H(M)$.\n",
    "\n",
    "2) Jeżeli $emlen < hlen + slen + 2$ **zakończ i zwróć błąd**.\n",
    "\n",
    "3) Wygeneruj tablicę losowych bajtów $salt$ o długości $slen$.\n",
    "\n",
    "4) Oblicz: $M' = 0x00 00 00 00 00 00 00 00 || mHash || salt$. Długość $M'$ to $8 + hlen + slen$.\n",
    "\n",
    "5) Oblicz: $mHash' = H(M')$.\n",
    "\n",
    "6) Wygeneruj tablicę $PS$ składającą się z bajtów 0x00 o długości $emlen - slen - hlen - 2$.\n",
    "\n",
    "7) Oblicz: $DB = PS || 0x01 || salt$. Długość $DB$ powinna wynosić $emlen - hlen - 1$ bajtów.\n",
    "\n",
    "8) Oblicz: $dbMask = mgf1(mHash', emlen - hlen - 1)$.\n",
    "\n",
    "9) Oblicz: $maskedDB = DB ⊕ dbMask$.\n",
    "\n",
    "10) Ustaw $8 * emlen - emBits$ **najbardziej znaczących** bitów $maskedDB$ na wartości 0.\n",
    "\n",
    "11) Oblicz: $EM = maskedDB || mHash' || 0xbc$.\n",
    "\n",
    "12) Zwróć $EM$.\n"
   ]
  },
  {
   "cell_type": "markdown",
   "metadata": {
    "id": "HWbbbw1DCGpr"
   },
   "source": [
    "## EMSA decoding"
   ]
  },
  {
   "cell_type": "markdown",
   "metadata": {
    "id": "xR6QyzduCIoc"
   },
   "source": [
    "Parametry wejściowe:\n",
    "\n",
    "1) $H$ - funkcja skrótu SHA-256, oraz $hlen$ czyli długość zwracanego skrótu w bajtach.\n",
    "\n",
    "2) $slen$ - długość soli w bajtach, powinna być równa $hlen$.\n",
    "\n",
    "3) $EM$ - sygnatura wiadomości $M$.\n",
    "\n",
    "4) $M$ - bajty wiadomości do weryfikacji.\n",
    "\n",
    "4) $mgf1$ - Mask Generation Function 1.\n",
    "\n",
    "5) $emBits$ - długość sygnatury w bitach. Jest to najczęściej długość bitowa liczby modulus $n$ pomniejszona o jeden, czyli w naszym przypadku 2047.\n",
    "\n",
    "6) $emlen$ - długość sygnatury w bajtach, równa długości parametru $n$ wyrażonego w bajtach."
   ]
  },
  {
   "cell_type": "markdown",
   "metadata": {
    "id": "MqZUQgT6CspI"
   },
   "source": [
    "Algorytm:\n",
    "\n",
    "1) Oblicz: $mHash = H(M)$.\n",
    "\n",
    "2) Jeżeli $emlen < hlen + slen + 2$ **zakończ i zwróć błąd weryfikacji**.\n",
    "\n",
    "3) Jeżeli ostatni bajt (najmniej znaczący) $EM$ nie ma wartości 0xbc **zakończ i zwróć błąd weryfikacji**.\n",
    "\n",
    "4) Podstaw $emlen - hlen - 1$ najbardziej znaczących bajtów do $maskedDB$ oraz kolejne $hlen$ bajtów do $mHash'$.\n",
    "\n",
    "5) Jeżeli $8 * emlen - emBits$ najbardziej znaczących bitów $maskedDB$ nie ma wartości 0, **zakończ i zwróć błąd weryfikacji**.\n",
    "\n",
    "6) Oblicz: $dbMask = mgf1(mHash', emlen - hlen - 1)$.\n",
    "\n",
    "7) Oblicz: $DB = maskedDB ⊕ dbMask$.\n",
    "\n",
    "8) Ustaw $8 * emlen - emBits$ najbardziej znaczących bitów $DB$ na 0.\n",
    "\n",
    "9) Jeżeli $emlen - hlen - slen - 2$ najbardziej znaczących bajtów $DB$ nie posiada wartości 0x00 lub gdy bajt na pozycji $emlen - hlen - slen - 1$ (licząc od najbardziej znaczącego) nie posiada wartości 0x01 **zakończ i zwróć błąd weryfikacji**.\n",
    "\n",
    "10) Przypisz do zmiennej $salt$ dokładnie $slen$ najmniej znaczących bajtów $DB$.\n",
    "\n",
    "11) Oblicz: $M' = 0x00 00 00 00 00 00 00 00 || mHash || salt$. Długość $M'$ to $8 + hlen + slen$.\n",
    "\n",
    "12) Oblicz $mHash'' = H(M')$.\n",
    "\n",
    "13) Jeżeli $mHash' \\neq mHash''$ **zakończ i zwróć błąd weryfikacji**, w przeciwnym razie **weryfikacja powiodła się**.\n"
   ]
  },
  {
   "cell_type": "markdown",
   "metadata": {
    "id": "wrxJHSkyIvz5"
   },
   "source": [
    "**Zadanie 7**\n",
    "\n",
    "Zaprogramuj kodowanie i dekodowanie EMSA, a następnie popraw algorytmy tworzenia i weryfikacji podpisu cyfrowego RSA. Tworzenie podpisu powinno wyglądać tak, że wiadomość najpierw jest kodowana z wykorzystaniem EMSA, a później tworzony jest popdis z wykorzystaniem klucza prywatnego. Dekodowanie powinno wyglądać tak, że najpierw używany jest klucz publiczny do odtworzenia podpisu EMSA, a następnie wykorzystywane jest dekodowanie EMSA w celu weryfikacji."
   ]
  },
  {
   "cell_type": "code",
   "execution_count": 131,
   "metadata": {
    "colab": {
     "base_uri": "https://localhost:8080/"
    },
    "id": "S-TbQA4NJrl3",
    "outputId": "7d457629-5863-4a42-c133-0812798fa7a2"
   },
   "outputs": [
    {
     "name": "stdout",
     "output_type": "stream",
     "text": [
      "b'\\xe6\\x08J\\xd1\\xe2\\xf4#u\\x18/\\xd0$\\x19R\\x0c\\xda\\x13\\x15%7\\xdf\\n\\x99\\xb3\\x08\\xfe\\x1ed\\x9f\\x19\\xf0\\x8e'\n",
      "b'\\xe6\\x08J\\xd1\\xe2\\xf4#u\\x18/\\xd0$\\x19R\\x0c\\xda\\x13\\x15%7\\xdf\\n\\x99\\xb3\\x08\\xfe\\x1ed\\x9f\\x19\\xf0\\x8e'\n",
      "SUCCESS\n"
     ]
    },
    {
     "data": {
      "text/plain": [
       "True"
      ]
     },
     "execution_count": 131,
     "metadata": {},
     "output_type": "execute_result"
    }
   ],
   "source": [
    "m = \"Ala ma podpis\"\n",
    "\n",
    "def xor_bytes(a, b):\n",
    "  result = bytes(x ^ y for x, y in zip(a, b))\n",
    "  return result\n",
    "\n",
    "def zero_most_significant_bits(b, n):\n",
    "    mask = (1 << n) - 1 \n",
    "    b_new = bytearray(b)  \n",
    "    \n",
    "    for i in range(len(b_new)):\n",
    "        b_new[i] &= ~mask \n",
    "    \n",
    "        if n > 8:\n",
    "            mask = 0xFF  \n",
    "            n -= 8\n",
    "        else:\n",
    "            mask >>= n \n",
    "    \n",
    "    return bytes(b_new)\n",
    "\n",
    "\n",
    "def emsa_encoding(slen, M, emBits):\n",
    "  emlen = math.ceil(emBits/8)\n",
    "  hlen = 256 // 8\n",
    "  mlen = len(M)\n",
    "  mHash = hl.sha256(M).digest()\n",
    "  if emlen < hlen + slen + 2:\n",
    "    print('ERROR')\n",
    "    return None\n",
    "\n",
    "  salt = random.randbytes(slen)\n",
    "  MPrime = b'\\x00' * 8 + mHash + salt \n",
    "\n",
    "  mHashPrime = hl.sha256(MPrime).digest()\n",
    "  \n",
    "  PS = b'\\x00' * (emlen - slen - hlen -2)\n",
    "\n",
    "  DB = PS + b'\\x01' + salt\n",
    "\n",
    "  dbMask = mgf1(mHashPrime, emlen - hlen -1)\n",
    "  maskedDB = xor_bytes(DB, dbMask)\n",
    "  maskedDB = zero_most_significant_bits(maskedDB, 8*emlen - emBits)\n",
    "  EM = maskedDB + mHashPrime + b'\\xbc'\n",
    "  return EM\n",
    "\n",
    "def emsa_decoding(slen, EM, M, emBits):\n",
    "  emlen = math.ceil(emBits/8)\n",
    "  hlen = 256 // 8\n",
    "  mlen = len(M)\n",
    "  mHash = hl.sha256(M).digest()\n",
    "  if emlen < hlen + slen + 2:\n",
    "    print('ERROR')\n",
    "    return None\n",
    "  if hex(EM[-1]) != '0xbc':\n",
    "    print('ERROR')\n",
    "    return None\n",
    "  maskedDB = EM[:(emlen - hlen -1)]\n",
    "  mHashPrime = EM[(emlen- hlen-1): (emlen - hlen -1) + hlen]\n",
    "  dbMask = mgf1(mHashPrime, emlen - hlen -1)\n",
    "  DB = xor_bytes(maskedDB, dbMask)\n",
    "  DB = zero_most_significant_bits(DB, 8*emlen - emBits)\n",
    "  for i in range(emlen - hlen - slen - 2):\n",
    "    if DB[i] != 0:\n",
    "      print('ERROR 0')\n",
    "      return None\n",
    "  if DB[emlen - hlen - slen -2] != 1:\n",
    "    print('ERROR 1')\n",
    "    return None\n",
    "  \n",
    "  salt = DB[-slen:]\n",
    "  MPrime = b'\\x00' * 8 + mHash + salt\n",
    "  mHashBis = hl.sha256(MPrime).digest()\n",
    "  print(mHashPrime)\n",
    "  print(mHashBis)\n",
    "  if mHashPrime == mHashBis:\n",
    "    print(\"SUCCESS\")\n",
    "  else:\n",
    "    print(\"VERIFICATION FAILED\")\n",
    "  return mHashPrime == mHashBis\n",
    "\n",
    "\n",
    "EM = emsa_encoding(256//8, M.encode(), 2047)\n",
    "\n",
    "emsa_decoding(256//8, EM, M.encode(), 2047)"
   ]
  },
  {
   "cell_type": "code",
   "execution_count": 117,
   "metadata": {},
   "outputs": [
    {
     "name": "stdout",
     "output_type": "stream",
     "text": [
      "3154963309895253363402429539273768325326154241224472573095540590535710650222109394857465349667264967178664135123456823666132933031421479508652584587101125066378603229954277951724483733021100961585983011671549483019158689340167470554173711505571922233784683335366486063754080744636678620568279991864506967119641440875296026721663570209259953463798232631572896601701636267068380532839055049434232290359305034515293477192116040803665184986791038977878074357399719057639088184970067184888262186638947425882113282462319931832912027416075326918298825225388302528094288957648018262932309173107780173061270181913436706571093\n",
      "\n",
      "2576609446136810321284793642849579379527454191856329747264527660897419943862306273701113910862743553954351156540019741177436361715134805108682805972579941\n",
      "2576609446136810321284793642849579379527454191856329747264527660897419943862306273701113910862743553954351156540019741177436361715134805108682805972579941\n",
      "True\n"
     ]
    }
   ],
   "source": [
    "M = \"Ala ma kota\"\n",
    "\n",
    "hash_object = hl.sha256(M.encode())\n",
    "h = hash_object.hexdigest()\n",
    "h = encode_str(h)\n",
    "SIG = pow(h, d, n)\n",
    "print(SIG)\n",
    "\n",
    "VER = pow(SIG, e, n)\n",
    "print()\n",
    "print(VER)\n",
    "print(h)\n",
    "print(VER == h)"
   ]
  },
  {
   "cell_type": "code",
   "execution_count": 134,
   "metadata": {},
   "outputs": [
    {
     "name": "stdout",
     "output_type": "stream",
     "text": [
      "b'\\x92G\\xc2\\x9f\\xc6\\xafru\\xd4\\xdf\\xfa\\xec\\x0e\\x95\\x05\\xefG\\x86\\x82\\x10J\\x8d\\xbe5\\xe7Z\\x8e8b\\x94D\\xa5'\n",
      "b'\\x92G\\xc2\\x9f\\xc6\\xafru\\xd4\\xdf\\xfa\\xec\\x0e\\x95\\x05\\xefG\\x86\\x82\\x10J\\x8d\\xbe5\\xe7Z\\x8e8b\\x94D\\xa5'\n",
      "SUCCESS\n"
     ]
    },
    {
     "data": {
      "text/plain": [
       "True"
      ]
     },
     "execution_count": 134,
     "metadata": {},
     "output_type": "execute_result"
    }
   ],
   "source": [
    "def create_digital_signature(M):\n",
    "    EM = emsa_encoding(256//8, M, 2047)\n",
    "    EM_num = int.from_bytes(EM, byteorder='big')\n",
    "    SIG_num = pow(EM_num, d, n)\n",
    "    SIG = SIG_num.to_bytes((SIG_num.bit_length() + 7) // 8, byteorder='big')\n",
    "    return SIG, M\n",
    "\n",
    "def verify_digital_signature(SIG, M):\n",
    "    SIG_num = int.from_bytes(SIG, byteorder='big')\n",
    "    VER_num = pow(SIG_num, e, n)    \n",
    "    VER = VER_num.to_bytes((VER_num.bit_length() + 7) // 8, byteorder='big')\n",
    "    return emsa_decoding(256//8, VER, M, 2047) is True\n",
    "    \n",
    "\n",
    "SIG, EM = create_digital_signature(M.encode())\n",
    "verify_digital_signature(SIG,EM)"
   ]
  },
  {
   "cell_type": "markdown",
   "metadata": {
    "id": "d7txLS64JZI-"
   },
   "source": [
    "## RSA - KEM\n",
    "\n",
    "RSA - KEM, czyli z ang. *Key Encapsulation Mechanism* to prosty algorytm dedykowany do wymiany klucza symetrycznego. Obie strony dysponują uzgodnioną funkcją skótu H. Instancja, która chce **otrzymać** tajny klucz do komunikacji symetrycznej generuje klucze RSA i udostępnia swój klucz publiczny. Instancja, która chce wygenerować tajny klucz do komunikacji symetrycznej dysponuje kluczem publicznym instancji, która chce go otrzymać."
   ]
  },
  {
   "cell_type": "markdown",
   "metadata": {
    "id": "tl7cu30PJ1lk"
   },
   "source": [
    "Instancja generująca klucz symetryczny:\n",
    "\n",
    "1) Znajdź losową liczbę $RAND$ spełniającą warunki OAEP.\n",
    "\n",
    "2) Oblicz: $KEY = H(RAND)$. Jeżeli trzeba, przytnij $KEY$ do odpowiedniej długości.\n",
    "\n",
    "3) Oblicz: $CIPHERED\\_KEY = RSA\\_OAEP\\_ENCODING(KEY, (e, n))$.\n",
    "\n",
    "4) Wyślij $CIPHERED\\_KEY$."
   ]
  },
  {
   "cell_type": "markdown",
   "metadata": {
    "id": "oFB9JAwULw70"
   },
   "source": [
    "Instancja otrzymująca zaszyfrowany klucz symetryczny:\n",
    "\n",
    "1) Oblicz: $KEY = RSA\\_OAEP\\_DECODING(CIPHERED\\_KEY, (d, n))$\n",
    "\n",
    "2) Jeżeli trzeba przytnij $KEY$ do odpowiedniej długości."
   ]
  },
  {
   "cell_type": "markdown",
   "metadata": {
    "id": "386c_pDZMSRG"
   },
   "source": [
    "Np. AES występuje w wersji 128b, 192b i 256b. Jeżeli jako H przyjmiemy więc SHA-256, nie trzeba przycinać klucza dla algorytmu AES-256. W przeciwnym razie należy klucz odpowiednio przyciąć (z lewej lub prawej, byle obie strony tak samo) i to ta wartość staje się kluczem symetrycznym."
   ]
  },
  {
   "cell_type": "markdown",
   "metadata": {
    "id": "7N66NPBBMpLS"
   },
   "source": [
    "**Zadanie 8**\n",
    "\n",
    "Zasymuluj takową wymianę (bez przycinania klucza)."
   ]
  },
  {
   "cell_type": "code",
   "execution_count": 151,
   "metadata": {},
   "outputs": [
    {
     "name": "stdout",
     "output_type": "stream",
     "text": [
      "KEY:  b'\\x0b(\\xb9\\xc6\\x88*\\xd5\\x07}]\\xd4S\\x9ad\\xf9\\xe8\\xb5\\xf5h\\xdcX\\xfcF\\xfd\\xa4\\x9e\\xae\\xff^\\x18\\xaah'\n",
      "b'\\x0b(\\xb9\\xc6\\x88*\\xd5\\x07}]\\xd4S\\x9ad\\xf9\\xe8\\xb5\\xf5h\\xdcX\\xfcF\\xfd\\xa4\\x9e\\xae\\xff^\\x18\\xaah'\n",
      "message number  109570795098860005477660481940210511027309800694253462739592878670404758568896703239777066080460458116260307263025638779500476484524725020017149893559801295705534940171482648559623669256563829269596702431598818044963525805548572817020503702162427575348846164812881774981120175537260507409719069190136112561305027390239480012149677593037112937296107341293478003831701928334437399867001808792741974095764819651370124384235352424865587650090586878610621128546638920881594294914395354041803276519654719964590876369011302182137767851567850782767473149399580571997095443064912591664160829854437042172235902147353257262997\n",
      "\n",
      "\n",
      "ciphered  b'>\\x137\\x07\\x9f-C\\x03\\x84\\xb2\\x85\\x05\\x03K\\x11\\x7fL;w\\x1crf\\t\\xfd!\\x8a\\xf7\\x19\\xcb\\x11c\\xfeUdX~\\xd5\\xd7\\xe6W\\xdc\\xe9\\xe9`\\xab\\xdd\\xd4\\x01\\xa3A\\x1b\\x1b=\\xbe\\tlw\\x87\\x17\\xffl.\\xe2;\\xc5v\\\\k|%\\xf4-s\\x81\\xb6\\x06\\xc5\\xde\\xdcF\\xaa \\xa2\\xe7\\xab\\xd6\\xca\\x9a1\\xb7\\x97L\\xa4\\xde\\x7f\\xbf@\\x0fTCq\\xe6\\xae\\x89!G\\xc9]\\x8f\\x0e\\xaf#\\x9a\\x1ce\\xe4@u\\xd6\\xe8\\x14\\xaa\\xd6\\xa0\\x02\\x7f\\x1e\\xca_\\xd6\\nv\\x0f\\x87\\xf7\\xa8mFd\\x08\\xb4\\x14\\x82\\xb0\\xe5\\x13\\t\\t<\\xfe^\\t\\xbc\\xdfv\\x88\\xa5\\xeb_\\x93\\x81\\\\\\xfaq\\xb2~r\\x0f`y\\xf7$\\xd5ub\\xe5\\xb8bu\\xd3X\\x90V\\xf8\\xe7f\\x18\\xc1\\x80\\x80\\x19u\\xb7/\\xeb\\xdc\\xe1]5\\xc6A\\xa44bR\\x90\\xff\\x0b\\xdal\\xecv+\"Bl\\xfe\\xce\\x0b\\xf8;z\\x96Mg\\xe5_\\x8a7\\xda`\\xbd\\xa5\\x9c\\x037#\\x18\\xec\\xb9\\x93M\\xc3\\x9a\\x93\\n\\xeb\\x1fy\\xba\\xfa}j!k\\xd4'\n",
      "decrypted message number  109570795098860005477660481940210511027309800694253462739592878670404758568896703239777066080460458116260307263025638779500476484524725020017149893559801295705534940171482648559623669256563829269596702431598818044963525805548572817020503702162427575348846164812881774981120175537260507409719069190136112561305027390239480012149677593037112937296107341293478003831701928334437399867001808792741974095764819651370124384235352424865587650090586878610621128546638920881594294914395354041803276519654719964590876369011302182137767851567850782767473149399580571997095443064912591664160829854437042172235902147353257262997\n",
      "255\n",
      "\n",
      "\n",
      "DECRYPTED KEY:  b'\\x0b(\\xb9\\xc6\\x88*\\xd5\\x07}]\\xd4S\\x9ad\\xf9\\xe8\\xb5\\xf5h\\xdcX\\xfcF\\xfd\\xa4\\x9e\\xae\\xff^\\x18\\xaah'\n",
      "DEC KEY == KEY:  True\n"
     ]
    }
   ],
   "source": [
    "def RSA_KEM_enc(key):\n",
    "    C = encrypt_oaep(e, n, key)\n",
    "    C = C.to_bytes((C.bit_length() + 7) // 8, byteorder='big')\n",
    "    return C\n",
    "\n",
    "def RSA_KEM_dec(C_key):\n",
    "    C_key_num = int.from_bytes(C_key, byteorder='big')\n",
    "    key = decrypt_oaep(d, n, C_key_num, 256//8)\n",
    "    return key\n",
    "\n",
    "rand = cu.getRandomNBitInteger(2048)\n",
    "\n",
    "key = hl.sha256(rand.to_bytes(2048//8, byteorder='big')).digest()\n",
    "print('KEY: ', key)\n",
    "C = RSA_KEM_enc(key)\n",
    "print('\\n\\nciphered ', C)\n",
    "decrypted_key = RSA_KEM_dec(C)\n",
    "print('\\n\\nDECRYPTED KEY: ', decrypted_key)\n",
    "print('DEC KEY == KEY: ', decrypted_key == key)"
   ]
  }
 ],
 "metadata": {
  "@webio": {
   "lastCommId": null,
   "lastKernelId": null
  },
  "colab": {
   "provenance": []
  },
  "kernelspec": {
   "display_name": "Python 3 (ipykernel)",
   "language": "python",
   "name": "python3"
  },
  "language_info": {
   "codemirror_mode": {
    "name": "ipython",
    "version": 3
   },
   "file_extension": ".py",
   "mimetype": "text/x-python",
   "name": "python",
   "nbconvert_exporter": "python",
   "pygments_lexer": "ipython3",
   "version": "3.10.6"
  }
 },
 "nbformat": 4,
 "nbformat_minor": 1
}
