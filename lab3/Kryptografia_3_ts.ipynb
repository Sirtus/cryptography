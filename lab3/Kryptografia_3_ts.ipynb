{
 "cells": [
  {
   "attachments": {},
   "cell_type": "markdown",
   "metadata": {
    "id": "O4N_EaD6qK27"
   },
   "source": [
    "# RSA\n",
    "\n",
    "Rivest Shamir Adleman (RSA) jest jednym z pierwszych algorytmów asymetrycznych. Został zaprojektowany w 1977 roku i jest używany do dzisiejszego dnia. Zyskał akceptację zarówno NISTu jak i organizacji ISO/IEC oraz RFC. RSA posiada parę kluczy - publiczny oraz prywatny. Publiczny klucz może być znany każdemu i służy on do operacji szyfrowania. Klucz prywatny jest znany tylko i wyłącznie instancji, która klucze generowała. Ta sama instancja jako jedna jedyna ma możliwość odszyfrowania kryptogramów.\n",
    "\n",
    "RSA umożliwia także tworzenie podpisów cyfrowych (z ang *Digital Signatures*, czyli *DS*). Podpis cyfrowy to dodatkowy blok informacji dołączony do wiadomości, który zapewnia:\n",
    "1. *Integrity* - integralność wiadomości, czyli potwierdzenie, że nie była ona w żaden sposób modyfikowana.\n",
    "2. *Authentication* - autentykacje podpisującego, czyli potwierdzenie jego tożsamości.\n",
    "3. *Non-repudiation* - czyli wysyłający podpisaną wiadomość nie ma możliwości zaprzeczenia faktu, że to on ją podpisał, natomiast otrzymujący wiadomość nie ma możliwości zaprzeczenia faktu, iż to on ją zweryfikował. \n",
    "\n",
    "Samo haszowanie wiadomości zapewnia tylko *integirty*, natomiast utworzenie kodu MAC (*Message Authentiaction Code*) zapewnia jedynie *integrity* oraz *authentiaction*.\n",
    "\n",
    "Tworzenie podpisu cyfrowego z wykorzystaniem RSA wygląda odwrotnie niż komunikacja szyfrowana. To znaczy: podpis tworzony jest z wykorzystaniem klucza prywatnego - a więc tylko instancja generująca klucze może wiadomość podpisać. Weryfikacja odbywa się z wykorzystaniem klucza publicznego - czyli każda instancja, której nasz klucz udostępnimy, może podpis zweryfikować. \n",
    "\n",
    "Na początek zaimportujmy niezbędne biblioteki."
   ]
  },
  {
   "cell_type": "code",
   "execution_count": 1,
   "metadata": {
    "colab": {
     "base_uri": "https://localhost:8080/",
     "height": 0
    },
    "id": "F7OxWY2Mz7BD",
    "outputId": "f12182c4-b26d-40f1-c1ed-9746ee3e4746"
   },
   "outputs": [
    {
     "name": "stdout",
     "output_type": "stream",
     "text": [
      "Defaulting to user installation because normal site-packages is not writeable\n",
      "Requirement already satisfied: pycryptodome in /home/sirtus/.local/lib/python3.10/site-packages (3.17)\n"
     ]
    }
   ],
   "source": [
    "!pip install pycryptodome\n",
    "import Crypto.Util.number as cu\n",
    "import hashlib as hl\n",
    "import math"
   ]
  },
  {
   "attachments": {},
   "cell_type": "markdown",
   "metadata": {
    "id": "64vuvjiEuP3M"
   },
   "source": [
    "**Zadanie 1**\n",
    "\n",
    "Odpowiedz na poniższe pytania. Rozważ sytuację, w której dwie instancje komunikują się ze sobą, a trzecia próbuje dokonywać nieautoryzowanych zmian w treści wiadomości na drodze jej przesyłu.\n",
    "1. Dlaczego haszowanie zapewnia tylko integrity? Podpowiedź: czy haszowanie uwzględnia jakikolwiek klucz prywatny?\n",
    "2. Dlaczego kod MAC nie zapewnia *non-repudiation*? Co (niepożądanego) może dokonać odbierający wiadomość i atakujący komunikację? Podpowiedź: czy kody MAC, w szczególności popularny kod HMAC - który zakłada użycie klucza prywatnego - w jakikolwiek sposób weryfikuje KTO i DO CZEGO go użył? Kto dysponuje, a kto NIE dysponuje kluczem prywatnym HMAC?\n",
    "3. Dlaczego podpis cyfrowy zapewnia wszystkie te trzy cechy?"
   ]
  },
  {
   "attachments": {},
   "cell_type": "markdown",
   "metadata": {
    "id": "2qE7Uzp2xXKM"
   },
   "source": [
    "## Generowanie kluczy\n",
    "\n",
    "Algorytm generowania kluczy RSA może zostać przedstawiony w następujący sposób:\n",
    "\n",
    "1) Znajdź dwie różne i kryptograficznie bezpieczne liczby pierwsze.\n",
    "\n",
    "2) Oblicz $n = p * q$.\n",
    "\n",
    "3) Oblicz $f = (p - 1) * (q - 1)$.\n",
    "\n",
    "4) Znajdź dowolne $e$, takie, że $1 < e < f$ oraz $GCD(f, e) = 1$. GCD to największy wspólny dzielnik. Para $(e, n)$ to jest **klucz publiczny**.\n",
    "\n",
    "5) Oblicz $d = e^{-1}$ mod $f$. Para $(d, n)$ to **klucz prywatny**, przy czym tajne jest tylko $d$. "
   ]
  },
  {
   "attachments": {},
   "cell_type": "markdown",
   "metadata": {
    "id": "1MRcuBhC0UHA"
   },
   "source": [
    "W ten sposób generowane parametry byłyby matematycznie poprawne, lecz kryptograficznie niebezpieczne. Ustalmy więc, że chcemy aby nasz klucz publiczny był odpwowiednio długi. Będzie to długość bitowa parametru $n$, oznaczmy ją jako $nlen = 2048$. Parametr $nlen$ zawsze przyjmuje parzyste wartości. Mając to założenie, musimy (**uwzględniając wszystkie założenia z algorytmu generowania kluczy**) dodatkowo zapewnić, że:\n",
    "\n",
    "1. $65537 ≤ e < 2^{256}$\n",
    "2. $LCM(p - 1, q - 1) \\geq e * 2^{nlen/2}$\n",
    "3. $2^{(nlen - 1)//2} < p < 2^{nlen/2}$\n",
    "4. $2^{(nlen - 1)//2} < q < 2^{nlen/2}$\n",
    "5. $|p - q| > 2^{(nlen/2) - 100}$\n",
    "\n",
    "Gdzie LCM oznacza *Least Common Multiple*, czyli najmniejszą wspólną wielokrotność. Funkcję LCM znajdziesz w bibliotece math. Do potęgowania **nie używaj** pythonowej notacji \"**\", tylko metody pow() - przetestuj obie te metody obliczania potęgi i porównaj wydajność (zadanie opcjonalne). Do obliczania wartości bezwzględnej użyj metody abs() - również standardowa metoda pythona. Resztę niezbędnych metod znajdziesz w bibliotece [Crypto.Util.number](https://pycryptodome.readthedocs.io/en/latest/src/util/util.html) zaimpoertowanej jako cu. Opis powyższych założeń możesz znaleźć w [tym](https://nvlpubs.nist.gov/nistpubs/SpecialPublications/NIST.SP.800-56Br2.pdf) dokumencie NIST-owym."
   ]
  },
  {
   "attachments": {},
   "cell_type": "markdown",
   "metadata": {
    "id": "5inlXTklGGMv"
   },
   "source": [
    "**Zadanie 2**\n",
    "\n",
    "Uwzględniając wszystko powyższe, napisz metodę/metody generujące wartości $n$, $e$ oraz $d$."
   ]
  },
  {
   "cell_type": "code",
   "execution_count": 2,
   "metadata": {
    "colab": {
     "base_uri": "https://localhost:8080/",
     "height": 0
    },
    "id": "tRiOWsS7GRL9",
    "outputId": "3171dcd6-d954-4c31-d664-49732f5d26d1"
   },
   "outputs": [
    {
     "name": "stdout",
     "output_type": "stream",
     "text": [
      "nlen: 2048\n"
     ]
    }
   ],
   "source": [
    "nlen = 2048\n",
    "\n",
    "def find_p_q():\n",
    "  p = cu.getStrongPrime(1024)\n",
    "  q = cu.getStrongPrime(1024)\n",
    "  while p > pow(2, nlen//2) or p < pow(2, (nlen - 1)//2) or q > pow(2, nlen//2)\\\n",
    "         or q < pow(2, (nlen - 1)//2) or abs(p - q) < pow(2, (nlen//2) - 100):\n",
    "    p = cu.getStrongPrime(1024)\n",
    "    q = cu.getStrongPrime(1024)\n",
    "  return p, q\n",
    "\n",
    "def generate_keypair():\n",
    "  p, q = find_p_q()\n",
    "  n = p * q\n",
    "  print(\"nlen:\", len(bin(n))-2)\n",
    "  f = (p-1) * (q-1)\n",
    "  e = cu.getRandomRange(65537, min(pow(2, 256), f))\n",
    "\n",
    "  while math.gcd(e, f) != 1 or e > pow(2, 256) or math.lcm(p-1, q-1) < e*pow(2, nlen//2):\n",
    "    e = cu.getRandomRange(65537, min(pow(2, 256), f))\n",
    "\n",
    "  d = pow(e, -1, f)\n",
    "  return n, e, d\n",
    "\n",
    "n, e, d = generate_keypair()\n"
   ]
  },
  {
   "cell_type": "code",
   "execution_count": null,
   "metadata": {},
   "outputs": [],
   "source": []
  },
  {
   "attachments": {},
   "cell_type": "markdown",
   "metadata": {
    "id": "wae-whoNGlz_"
   },
   "source": [
    "## Naiwne szyfrowanie i deszyfrowanie"
   ]
  },
  {
   "attachments": {},
   "cell_type": "markdown",
   "metadata": {
    "id": "fESNrzCYNVfy"
   },
   "source": [
    "\n",
    "Naiwny algorytm szyfrowania wiadomości **M** z wykorzystaniem RSA:\n",
    "\n",
    "1) Zakoduj $M$ jako liczbę.\n",
    "\n",
    "2) Oblicz: $C = M^e$ mod $n$."
   ]
  },
  {
   "attachments": {},
   "cell_type": "markdown",
   "metadata": {
    "id": "FQvVgWWrHBX2"
   },
   "source": [
    "Naiwny algorytm deszyfrowania kryptogramu **C** z wykorzystaniem RSA:\n",
    "\n",
    "1) $M = C^d$ mod $n$.\n",
    "\n",
    "2) Zdekoduj wiadomość $M$ do jej pierwotnej postaci (np. stringa). \n"
   ]
  },
  {
   "attachments": {},
   "cell_type": "markdown",
   "metadata": {
    "id": "mFRFP0BsHc9l"
   },
   "source": [
    "**Zadanie 3**\n",
    "\n",
    "Napisz metody szyfrujące i deszyfrujące wiadomość $M$ zgodnie z powyższym algorytmem. Zaszyfruj wiadomość, zdeszyfruj i wypisz oryginalny tekst na ekranie. Odpowiedz na pytanie: jaki warunek musi spełniać liczbowa reprezentacja wiadomości $M$, aby można ją było poprawnie zaszyfrować i zdeszyfrować?"
   ]
  },
  {
   "cell_type": "code",
   "execution_count": 3,
   "metadata": {
    "colab": {
     "base_uri": "https://localhost:8080/",
     "height": 0
    },
    "id": "N3y7NMf_HkuB",
    "outputId": "2af3dacb-e1d3-4a22-8def-b4014b507fe6"
   },
   "outputs": [
    {
     "name": "stdout",
     "output_type": "stream",
     "text": [
      "[65, 108, 97, 32, 109, 97, 32, 107, 111, 116, 97]\n",
      "[5837181387046673482521599191049587570511958899281609443816826789565066011624309681289717811693693090046472073529947936675300837265267855330119035122456003703536458726638843438321398459094884283583093418328919430142129551814471890589710755943407257534285983402393150670156924772355461792744168658393241483893253926642299397204155593234263881522452398163326358463395296689776639541564715442173764561369127650976506214964102125530149484014197867518292166134902285134251170115804827058410562785023969662162862350719593243011047433551248074863704115160752667477305997997231190737330709616619491856149346282414276611566761, 8844979722918885595802498549731003841456496427779725603726244742973132125766952597493097395251914050245186693849049597376513229061808728720310608225368330942105107540220947401578047560432664716983855147137268727852598398068531351968213260589399061129855002430251658752120114035841312602006825560943168441204936188949803493572033036235812401304307024043506578532759743391822050200013196108667150729409780480656607286898144701076758140815600606700887918068180873313263774787575756015861368950003238554102246365679800692733335958057144001682827700936429820906195754540843074111162916452249552872484284559796253905194459, 10354144050462251155256306357995749621603375612006584548533133018854511994295458609118740173698095046380672462311980101696836209822407571766335641524472621788248462388740559452160222323294428522195634097887862972519950999016932386316402437635145450491250168760790415107300431919091103147045632938819788353057607816885780709625691675929458384474169032598097449999040747782449190894193297568516421762860209422600964633518468615023341738130317574094659060899481470184316659241197239832855076334520715902705980607209582719317693264000271200722263122092899609497751693861912916158676923019201329107267323925108313579366553, 10731209786186183948134807382020686633736227086180802849369263686575644546939398093472380914070612798975394236371832016394182951608532564753149723393901944959364357585864045040126275120015781050208972939518333306362225555726511374716189994859415755353653289987156685285509585382537737005231384726965627903170832255866630990429316611645416322442581252420822631347411051993908062578748855203820186766120695279951521585904004174380735914407930126873016612182910090494221576421856094707849307465508669620269485348650986752081395584008054793234896799976160319312818742525537412716688447604775483444597317642891608328743012, 17490786185076786440024411445180829315012543581796323627112504734340296116105588333267842256720202440756521647221530438496389346354390542597397363131036943996724729514490584401086250221726993088878248530547103711508807219491273305560015724410664340683465429280560800565905985278259238487595621575433467743042286196759932035231028778129520381056252558971789691063482930560476111014655761382863755463028103629850075856453955113440626069709768038575467458253109411263665144767904763590373476075397522064201475561366504081493358922457211577505812919341218190284545488320178157085487473411006069172662032871683844096377946, 10354144050462251155256306357995749621603375612006584548533133018854511994295458609118740173698095046380672462311980101696836209822407571766335641524472621788248462388740559452160222323294428522195634097887862972519950999016932386316402437635145450491250168760790415107300431919091103147045632938819788353057607816885780709625691675929458384474169032598097449999040747782449190894193297568516421762860209422600964633518468615023341738130317574094659060899481470184316659241197239832855076334520715902705980607209582719317693264000271200722263122092899609497751693861912916158676923019201329107267323925108313579366553, 10731209786186183948134807382020686633736227086180802849369263686575644546939398093472380914070612798975394236371832016394182951608532564753149723393901944959364357585864045040126275120015781050208972939518333306362225555726511374716189994859415755353653289987156685285509585382537737005231384726965627903170832255866630990429316611645416322442581252420822631347411051993908062578748855203820186766120695279951521585904004174380735914407930126873016612182910090494221576421856094707849307465508669620269485348650986752081395584008054793234896799976160319312818742525537412716688447604775483444597317642891608328743012, 7758452620269734222777606383806148378143055249333353781602929174999455303872782368181789615701266001006832201849892588944173199025984957324763601415364282666488434123587341113086472512486319595724038816387981761561307238116512611777603403820763401252908294014827975545234366202448167065744983677615863880521938450751009091672874379809720905751519500998726131572326591425582037546147252159897111652294710067227473470136184176367816235723855475328105911541955646973727460761697424665978749255317070639602725246639367422220688928706089228745712123822664524265003762160214133505982994906590579415661307753061263994014719, 20858603609120124853189244026101671519746675380610297814498663794720770389382059449377193191710721359088581992464852392354257046980604969207957608462630832726352961196824643093172581772010364636841285195332347751647163942610548822445447312502476636410379475666910001009421783412534271272138985050011019954578807965190021730262627377237853996495102682934028226813760016612216211079653280779059231009412291219663205328481177592122905285274707602579485518486473492036881213730400554700474557977357967401075067977420616240069732557406503976984243718004992403106201795619755943675376384840586097420167250029985690471810385, 19820530711164961739483807179980921044547803613427479748963549542231432600930281820873272436304162817942379981586477134507276424285573073160896846102429094164288315605342759442814965401780326985423312626805682303547638586677120117420319461855209912469293330693877059070766348037445569225265264439276436506613730561990134109719877737258950864506678318573896498762163612420360717638764473669808831374045373792063476773554191281026689126081482157031814990538648511420948233900983705283402265726955186341664584859737702714872833986613962025605150887281421937392707615095874470604425897018367735207121319325682225536043913, 10354144050462251155256306357995749621603375612006584548533133018854511994295458609118740173698095046380672462311980101696836209822407571766335641524472621788248462388740559452160222323294428522195634097887862972519950999016932386316402437635145450491250168760790415107300431919091103147045632938819788353057607816885780709625691675929458384474169032598097449999040747782449190894193297568516421762860209422600964633518468615023341738130317574094659060899481470184316659241197239832855076334520715902705980607209582719317693264000271200722263122092899609497751693861912916158676923019201329107267323925108313579366553]\n"
     ]
    }
   ],
   "source": [
    "M = \"Ala ma kota\"\n",
    "\n",
    "# Your code here\n",
    "\n",
    "# encryption\n",
    "M_num = [ord(c) for c in M]\n",
    "print(M_num)\n",
    "C = [pow(m, e, n) for m in M_num]\n",
    "print(C)\n",
    "\n"
   ]
  },
  {
   "cell_type": "code",
   "execution_count": 4,
   "metadata": {
    "colab": {
     "base_uri": "https://localhost:8080/"
    },
    "id": "_OyTS9CsUblF",
    "outputId": "7ef807a9-c5b6-4521-eefc-0bc86b765705"
   },
   "outputs": [
    {
     "name": "stdout",
     "output_type": "stream",
     "text": [
      "message number  79091985525906541409956961\n",
      "ciphertext:  20273077197344753406198085961640242152473827810408773002530386173236232056260397578377452702715023390653053980703955420516401951331954790900151724958669332362219290543964753724202802413988468465909685525759952458325212125201542478500244231035087979795802067423970850470530339972322695645838772420456348813961432879704525280925507501824572722825130148305509671183695053365352141502459182983921799953273139699002558348171664804101054583577418930954511018708577231637700302133469425661417517814545278570989834134457737961445964091049620081963370837204632080340306275982760941525116538994463293251376361908062170813965716\n",
      "decrypted message number  79091985525906541409956961\n",
      "decrypted message  Ala ma kota\n"
     ]
    }
   ],
   "source": [
    "def encode_str(s):\n",
    "  s_num = ''.join([hex(ord(c))[2:].zfill(2) for c in s])\n",
    "  return int(s_num, 16)\n",
    "\n",
    "# encryption\n",
    "\n",
    "def encrypt(e, n, mes):\n",
    "  m_num = encode_str(mes)\n",
    "  print('message number ', m_num)\n",
    "  c = pow(m_num, e, n)\n",
    "  return c\n",
    "\n",
    "\n",
    "# decryption\n",
    "\n",
    "def decrypt(d, n, c):\n",
    "  m_decrypted = pow(c, d, n)\n",
    "  print('decrypted message number ', m_decrypted)\n",
    "  message = ''\n",
    "  m_dec = m_decrypted\n",
    "  while m_dec:\n",
    "    m = m_dec & 0xFF\n",
    "    message = chr(m) + message\n",
    "    m_dec = m_dec >> 8\n",
    "  return message\n",
    "\n",
    "\n",
    "M = \"Ala ma kota\"\n",
    "\n",
    "C = encrypt(e, n, M)\n",
    "print('ciphertext: ', C)\n",
    "\n",
    "message = decrypt(d, n, C)\n",
    "print('decrypted message ', message)"
   ]
  },
  {
   "attachments": {},
   "cell_type": "markdown",
   "metadata": {
    "id": "NjF8Fr_dN0s6"
   },
   "source": [
    "## Naiwny schemat podpisu cyfrowego"
   ]
  },
  {
   "attachments": {},
   "cell_type": "markdown",
   "metadata": {
    "id": "AsvkSf9zN4i8"
   },
   "source": [
    "Naiwna metoda tworzenia podpisu z wiadmości $M$:\n",
    "\n",
    "1) Oblicz $h = H(M)$. H to uzgodniona funkcja skrótu, niech to będzie SHA-256.\n",
    "\n",
    "2) Zakoduj $h$ jako liczbę.\n",
    "\n",
    "3) Oblicz $SIG = h^d$ mod $n$.\n",
    "\n",
    "4) Wyślij parę $(M, SIG)$ weryfikującemu."
   ]
  },
  {
   "attachments": {},
   "cell_type": "markdown",
   "metadata": {
    "id": "xcMiT4DhOoOt"
   },
   "source": [
    "Naiwna metoda weryfikacji podpisu $(M, SIG)$:\n",
    "\n",
    "1) Oblicz $h = H(M)$. H to uzgodniona funkcja skrótu, niech to będzie SHA-256.\n",
    "\n",
    "2) Zakoduj $h$ jako liczbę.\n",
    "\n",
    "3) Oblicz $VER = SIG^e$ mod $n$.\n",
    "\n",
    "4) Jeżeli $VER = h$, weryfikacja przebiegła pomyślnie, a w przeciwnym razie niepomyślnie."
   ]
  },
  {
   "attachments": {},
   "cell_type": "markdown",
   "metadata": {
    "id": "Jx86zFg6PDDs"
   },
   "source": [
    "**Zadanie 4**\n",
    "\n",
    "Zaimplementuj naiwną metodę tworzenia i weryfikowania podpisu cyfrowego RSA."
   ]
  },
  {
   "cell_type": "code",
   "execution_count": 5,
   "metadata": {
    "colab": {
     "base_uri": "https://localhost:8080/"
    },
    "id": "Y7OSfmf0PJ2Q",
    "outputId": "ec2d1cf5-177f-4316-affb-cdc0935afb3a"
   },
   "outputs": [
    {
     "name": "stdout",
     "output_type": "stream",
     "text": [
      "2706781031126678406837875379251672446692325473115390862049493482649841565366035686600306786383729539119692080009710710740124780741057128188916432604192128637673281790982375691441861475139743267917807417520627434983059625284323841545996468504133086230696280421481355449197980562665742867163570405526130367704989202817205314568416244757780920112511644739571442226563620046172492282642166992241034631732379158289286931084748183513865638731274063963982504986259942697327469748029861778919358376132134321278323107760557438011928108662732463247436717545252291339464332935433520792812450917679276880175677998160404397353873\n",
      "\n",
      "2576609446136810321284793642849579379527454191856329747264527660897419943862306273701113910862743553954351156540019741177436361715134805108682805972579941\n",
      "2576609446136810321284793642849579379527454191856329747264527660897419943862306273701113910862743553954351156540019741177436361715134805108682805972579941\n",
      "True\n"
     ]
    }
   ],
   "source": [
    "M = \"Ala ma kota\"\n",
    "\n",
    "hash_object = hl.sha256(M.encode())\n",
    "h = hash_object.hexdigest()\n",
    "h = encode_str(h)\n",
    "SIG = pow(h, d, n)\n",
    "print(SIG)\n",
    "\n",
    "VER = pow(SIG, e, n)\n",
    "print()\n",
    "print(VER)\n",
    "print(h)\n",
    "print(VER == h)"
   ]
  },
  {
   "attachments": {},
   "cell_type": "markdown",
   "metadata": {
    "id": "-6MsXDuaIj2C"
   },
   "source": [
    "## MGF 1\n",
    "\n",
    "W dalszej części laboratoriów będziemy potrzebowali generować maskę. Jedynym zatwierdzonym algorytmem który do tego służy jest *Mask Generation Function 1*, opisany w [RFC 8017](https://www.rfc-editor.org/rfc/rfc8017). Jest on stosunkowo prosty. "
   ]
  },
  {
   "attachments": {},
   "cell_type": "markdown",
   "metadata": {
    "id": "wXuwYrpsJzkU"
   },
   "source": [
    "Parametry wejściowe:\n",
    "\n",
    "1) M - bajty wiadomości.\n",
    "\n",
    "2) len - pożądana długość zwórconej maski w bajtach.\n",
    "\n",
    "3) H - wybrana funkcja skrótu, zwracająca $n$ bitowy skrót. Niech to będzie SHA-256. Dla wygody przyjmijmy też, że $hlen = n / 8$ oznacza liczbę bajtów zwracaną przez naszą funkcję skrótu.\n",
    "\n",
    "Wyjściem funkcji są bajty tworzące maskę."
   ]
  },
  {
   "attachments": {},
   "cell_type": "markdown",
   "metadata": {
    "id": "oriQJLCvJ0vM"
   },
   "source": [
    "Algorytm MGF-1:\n",
    "\n",
    "1) Dla 32-biotwego integera $i = 0, ..., ⌈ \\frac{len}{hlen}⌉ - 1$ wykonuj kroki 2 i 3.\n",
    "\n",
    "2) Oblicz tmp = H(M || i). Znak || to konkatenacja i chodzi tu o bajty wiadomości M oraz reprezentację w bajtach 32-bitowego itegera $i$.\n",
    "\n",
    "3) Oblicz output = output || tmp.\n",
    "\n",
    "4) Zwróc $len$ wiodących bajtów zmiennej output."
   ]
  },
  {
   "attachments": {},
   "cell_type": "markdown",
   "metadata": {
    "id": "o-AkA1mHK7cp"
   },
   "source": [
    "**Zadanie 5**\n",
    "\n",
    "Zaprogramuj i przetestuj dla dowolnych wartości funkcję MGF1."
   ]
  },
  {
   "cell_type": "code",
   "execution_count": 6,
   "metadata": {
    "colab": {
     "base_uri": "https://localhost:8080/"
    },
    "id": "rrBuKJWZLCV9",
    "outputId": "09c3db9b-2823-4c48-8a6d-677b4e3f2516"
   },
   "outputs": [
    {
     "name": "stdout",
     "output_type": "stream",
     "text": [
      "b'O\\x82y,\\xd5\\x98\\x18\\xc5B7\\xc4YT\\xe6\\xfa\\x82\\xdd\\x08\\xc8\\x8d\\x9b?\\xb2\\xe2X3\\x1c\\tf%d\\x18\\xd6,\\xad\\x91\\x8eH\\x9e\\xa6\\x1b\\xf7m\\xd4\\xfcu\\xf5L\\x0f&\\x94\\x10\\x1a\\x89\\xf0e\\xcdx\\xb3\\xa3?\\x7f\\xca\\xbd.M#C\"\\xb4B\\x8d\\xd3\\xb1GB\\xe3y5\\xc9 \\xd4\\t`B\\xfa\\xa9\\x9e\\x0c#\\xea4Hb\\xe0\\x02\\xbd\\xdeG\\xd2\\x15\\xfd\\xff\\xc7f|\\x18~\\x84{B\\xa8O\\xa6\\xe1\\xd4\\x9e=\\x1d\\xf5Q65$\\xd2\\xeeE#'\n"
     ]
    }
   ],
   "source": [
    "def mgf1(M, length):\n",
    "  hlen = 256 // 8\n",
    "  iter = math.ceil(length / hlen)\n",
    "  output = bytes()\n",
    "\n",
    "  for i in range(iter):\n",
    "    tmp = M + i.to_bytes(4, byteorder='big')\n",
    "    h = hl.sha256(tmp).digest()\n",
    "    output = output + h\n",
    "  return output[:length]\n",
    "\n",
    "M = \"Ala ma kota\"\n",
    "print(mgf1(M.encode(), 128))"
   ]
  },
  {
   "attachments": {},
   "cell_type": "markdown",
   "metadata": {
    "id": "K3gM9vGyPtna"
   },
   "source": [
    "## OAEP\n",
    "\n",
    "Nasz schemat ma na ten moment jedną sporą wadę, mianowicie rozmiar szyfrowanej wiadomości może być zbyt mały, czyniąc algorytm mniej bezpiecznym. Aby tego uniknąć, używamy algorytmu paddingu opisanego w [RFC 8017](https://www.rfc-editor.org/rfc/rfc8017#section-8), który zwie się *Optimal Assymetric Encryption Padding*."
   ]
  },
  {
   "attachments": {},
   "cell_type": "markdown",
   "metadata": {
    "id": "PFJW4wW5QjjH"
   },
   "source": [
    "### OAEP encoding"
   ]
  },
  {
   "attachments": {},
   "cell_type": "markdown",
   "metadata": {
    "id": "0BTXF8j6Reel"
   },
   "source": [
    "Parametry wejściowe:\n",
    "\n",
    "1) $H$ - funkcja skrótu SHA-256, oraz $hlen$ czyli długość zwracanego skrótu w bajtach.\n",
    "\n",
    "2) $k$ - długość liczby $n$ wyrażona w bajtach.\n",
    "\n",
    "3) $mlen$ - długość wiadomości wyrażona w bajtach.\n",
    "\n",
    "4) $M$ - bajty wiadomości.\n",
    "\n",
    "5) $mgf1$ - Mask Generation Function 1."
   ]
  },
  {
   "attachments": {},
   "cell_type": "markdown",
   "metadata": {
    "id": "YWse9bSFRfmu"
   },
   "source": [
    "Algorytm:\n",
    "\n",
    "1) Jeżeli $mlen > k - 2*hlen - 2$ zwróc błąd.\n",
    "\n",
    "2) Oblicz: $lHash = H(\"\")$.\n",
    "\n",
    "3) Wygeneruj tablicę bajtów $PS$ składającą się z $k - mlen - 2*hlen - 2$ bajtów o wartości 0x00. Rozmiar $PS$ może wynosić 0.\n",
    "\n",
    "4) Oblicz: $DB = lHash || PS || 0x01 || M$. Długość $DB$ powinna wynosić $k - hlen - 1$ bajtów.\n",
    "\n",
    "5) Wygeneruj losową tablicę bajtów $seed$ o rozmiarze $hlen$.\n",
    "\n",
    "6) Oblicz: $dbMask = mgf1(seed, k - hlen - 1)$.\n",
    "\n",
    "7) Oblicz: $maskedDB = DB ⊕ dbMask$.\n",
    "\n",
    "8) Oblicz: $seedMask = mgf1(maskedDB, hlen)$.\n",
    "\n",
    "9) Oblicz: $maskedSeed = seed ⊕ seedMask$.\n",
    "\n",
    "10) Oblicz: $EM = 0x00 || maskedSeed || maskedDB$. Długość $EM$ powinna wynosić $k$.\n",
    "\n",
    "11) Zwróc $EM$."
   ]
  },
  {
   "attachments": {},
   "cell_type": "markdown",
   "metadata": {
    "id": "lwJfZ28SUeKC"
   },
   "source": [
    "### OAEP decoding"
   ]
  },
  {
   "attachments": {},
   "cell_type": "markdown",
   "metadata": {
    "id": "i21JfT9TUlXN"
   },
   "source": [
    "Parametry wejściowe:\n",
    "\n",
    "1) $H$ - funkcja skrótu SHA-256, oraz $hlen$ czyli długość zwracanego skrótu w bajtach.\n",
    "\n",
    "2) $k$ - rozmiar EM wyrażony w bajtach.\n",
    "\n",
    "3) $mgf1$ - Mask Generation Function 1.\n",
    "\n",
    "4) $EM$ - bajty zakodowanej wiadomości."
   ]
  },
  {
   "attachments": {},
   "cell_type": "markdown",
   "metadata": {
    "id": "Toe-FHBzU1n-"
   },
   "source": [
    "Algorytm:\n",
    "\n",
    "1) Rozpakuj tablicę bajtów $EM$. Jej pierwszy bajt (najbardziej znaczący) przypisz do $Y$. Kolejne $hlen$ bajtów przypisz do $maskedSeed$, resztę do $maskedDB$. Czyli $EM = Y || maskedSeed || maskedDB$.\n",
    "\n",
    "2) Oblicz: $lHash = H(\"\")$.\n",
    "\n",
    "3) Oblicz: $seedMask = mgf1(maskedDB, hlen)$.\n",
    "\n",
    "4) Oblicz: $seed = maskedSeed ⊕ seedMask$.\n",
    "\n",
    "5) Oblicz: $dbMask = mgf1(seed, k - hlen - 1)$.\n",
    "\n",
    "6) Oblicz: $DB = maskedDB ⊕ dbMask$.\n",
    "\n",
    "7) Rozpkauj tablicę bakjtów $DB$. Pierwsze (najbardziej znaczące) $hlen$ bajtów przypisz do zmiennej $lHash'$. Następne $k - mlen - 2*hlen - 2$ bajtów do PS. Kolejny pojedynczy bajt powinien wynosić 0x01, jeżeli jest inaczej zwróć błąd i **zakończ działanie**. Resztę bajtów przypsiz do zmiennej $M$. Czyli: $DB = lHash' || PS || 0x01 || M$. \n",
    "\n",
    "8) Jeżeli $Y \\neq 0x00$ zwróć błąd i **zakończ działanie**.\n",
    "\n",
    "9) Jeżeli $lHash \\neq lHash'$ zwróć błąd i **zakończ działanie**.\n",
    "\n",
    "10) Zwróc $M$."
   ]
  },
  {
   "attachments": {},
   "cell_type": "markdown",
   "metadata": {
    "id": "A0yx2wepX4n1"
   },
   "source": [
    "**Zadanie 6**\n",
    "\n",
    "Zaproogramuj kodowanie i dekodowanie OAEP. Zmodyfikuj algorytm szyfrowania RSA, tak, aby przed zaszyfrowaniem wiadomość była paddingowana. Zmodyfikuj algorytm deszyfrowania tak, aby po zdeszyfrowaniu konieczne było wywołanie metody dekodowania OAEP w celu odzyskania wiadomości."
   ]
  },
  {
   "cell_type": "code",
   "execution_count": 8,
   "metadata": {
    "colab": {
     "base_uri": "https://localhost:8080/"
    },
    "id": "sA1oCpziYT6z",
    "outputId": "6b426225-5f77-4e20-e342-ed54e7750338"
   },
   "outputs": [
    {
     "data": {
      "text/plain": [
       "b'Ala ma kota'"
      ]
     },
     "execution_count": 8,
     "metadata": {},
     "output_type": "execute_result"
    }
   ],
   "source": [
    "import random\n",
    "\n",
    "M = \"Ala ma kota\"\n",
    "\n",
    "# Your code here\n",
    "\n",
    "def xor_bytes(a, b):\n",
    "  result = bytes(x ^ y for x, y in zip(a, b))\n",
    "  return result\n",
    "\n",
    "def oaep_encoding(k, M):\n",
    "  hlen = 256 // 8\n",
    "  mlen = len(M)\n",
    "\n",
    "  if mlen > k - 2 * hlen - 2:\n",
    "    print('ERROR')\n",
    "    return None\n",
    "  \n",
    "  lHash = hl.sha256(\"\".encode()).digest()\n",
    "  PS = b'\\x00' * (k - mlen - 2 * hlen - 2)\n",
    "  DB = lHash + PS + b'\\x01' + M\n",
    "\n",
    "  seed = random.randbytes(hlen)\n",
    "  dbMask = mgf1(seed, k-hlen-1)\n",
    "  maskedDB = xor_bytes(dbMask, DB)\n",
    "\n",
    "  seedMask = mgf1(maskedDB, hlen)\n",
    "  maskedSeed = xor_bytes(seedMask, seed)\n",
    "\n",
    "  \n",
    "  EM = b'\\x00' + maskedSeed + maskedDB\n",
    "  return EM\n",
    "\n",
    "def oaep_decoding(k, EM, mlen):\n",
    "  hlen = 256 // 8\n",
    "  Y = EM[0]\n",
    "  maskedSeed = EM[1:hlen+1]\n",
    "  maskedDB = EM[hlen+1:]\n",
    "  lHash = hl.sha256(\"\".encode()).digest()\n",
    "  seedMask = mgf1(maskedDB, hlen)\n",
    "  seed = xor_bytes(seedMask, maskedSeed)\n",
    "  dbMask = mgf1(seed, k-hlen-1)\n",
    "  DB = xor_bytes(maskedDB, dbMask)\n",
    "  lHashPrime = DB[:hlen]\n",
    "  PS = DB[hlen:hlen + (k - mlen - 2*hlen -2)]\n",
    "\n",
    "  if Y != 0:\n",
    "    print('ERROR Y != 0')\n",
    "    return None\n",
    "\n",
    "  if DB[hlen + (k - mlen - 2*hlen -2)] != 0x01:\n",
    "    print(\"ERROR 0\")\n",
    "    return None\n",
    "  M = DB[hlen + (k - mlen - 2*hlen -2)+1:]\n",
    "\n",
    "  if lHashPrime != lHash:\n",
    "    print('ERROR 1')\n",
    "    return None\n",
    "  return M\n",
    "\n",
    "\n",
    "EM = oaep_encoding(nlen//8, M.encode())\n",
    "oaep_decoding(len(EM), EM, len(M.encode()))"
   ]
  },
  {
   "cell_type": "code",
   "execution_count": 9,
   "metadata": {},
   "outputs": [
    {
     "name": "stdout",
     "output_type": "stream",
     "text": [
      "b'Ala ma kota'\n",
      "message number  10756041417536351648920865156271312658069187344209125717716679830523513838380580085915895349736996289189101149015464425804960743139562395204474824743487879931854617778588738658063413767203554821975100079796644631964506522227803318205629684455154373129095364210890964567246532260141442334632050081576826296703857094696087903266042958087003152299151605135057131870569028975674661656867642197542049274821011916582046246672691916707993566882016912005061348454737319862660593772180562931510168044339019409443103676822139206947221432186813263552788916432220529532584109259153706547788314675595332656165768267421027223734\n",
      "\n",
      "\n",
      "\n",
      "15790232050211634709395647460263522673367243989027865013646923269392914163904013458624331818659295008550458633684139277695690309479301603947250179388445259475640367301654243716525821133281987606186249930949502269791200354623321415923842864450017685007075269815939384859959262373755523089838103884461874970870991886527757999218150928308223062040395626422184630104745237545281124235546382760147796625719495041852182721185531437572423762557458514283840494037934343439222945363472681073931731136007741865840389021042820190739943183405137925415668746338812337030942093458257158287070251807519380484426655262241428713364425\n",
      "\n",
      "\n",
      "\n",
      "decrypted message number  10756041417536351648920865156271312658069187344209125717716679830523513838380580085915895349736996289189101149015464425804960743139562395204474824743487879931854617778588738658063413767203554821975100079796644631964506522227803318205629684455154373129095364210890964567246532260141442334632050081576826296703857094696087903266042958087003152299151605135057131870569028975674661656867642197542049274821011916582046246672691916707993566882016912005061348454737319862660593772180562931510168044339019409443103676822139206947221432186813263552788916432220529532584109259153706547788314675595332656165768267421027223734\n",
      "255\n"
     ]
    },
    {
     "data": {
      "text/plain": [
       "b'Ala ma kota'"
      ]
     },
     "execution_count": 9,
     "metadata": {},
     "output_type": "execute_result"
    }
   ],
   "source": [
    "def encrypt_oaep(e, n, mes):\n",
    "  print(mes)\n",
    "  m_num = oaep_encoding(nlen//8, mes)\n",
    "  m_num = int.from_bytes(m_num, byteorder='big')\n",
    "  print('message number ', m_num)\n",
    "  c = pow(m_num, e, n)\n",
    "  return c\n",
    "\n",
    "def decrypt_oaep(d, n, c, mlen):\n",
    "  m_decrypted = pow(c, d, n)\n",
    "  print('decrypted message number ', m_decrypted)\n",
    "  num_bytes = (m_decrypted.bit_length() + 7) // 8\n",
    "  print(num_bytes)\n",
    "  m_decrypted = m_decrypted.to_bytes(nlen//8, byteorder='big')\n",
    "  message = oaep_decoding(nlen//8, m_decrypted, mlen)\n",
    "  return message\n",
    "\n",
    "\n",
    "EM = encrypt_oaep(e, n, M.encode())\n",
    "print('\\n\\n')\n",
    "print(EM)\n",
    "print('\\n\\n')\n",
    "decrypt_oaep(d, n, EM, len(M.encode()))"
   ]
  },
  {
   "attachments": {},
   "cell_type": "markdown",
   "metadata": {
    "id": "ug2e_I03YoR1"
   },
   "source": [
    "## EMSA - PSS\n",
    "\n",
    "Utworzenie bezpiecznej sygnatury RSA wymaga zastowania algorytmu *Encoding Method for Signature with Appendix - Probabilistic Signature Scheme* ."
   ]
  },
  {
   "attachments": {},
   "cell_type": "markdown",
   "metadata": {
    "id": "KrWpFTRHZSA7"
   },
   "source": [
    "### EMSA encoding"
   ]
  },
  {
   "attachments": {},
   "cell_type": "markdown",
   "metadata": {
    "id": "bNPN9mqIZT5F"
   },
   "source": [
    "Parametry wejściowe:\n",
    "\n",
    "1) $H$ - funkcja skrótu SHA-256, oraz $hlen$ czyli długość zwracanego skrótu w bajtach.\n",
    "\n",
    "2) $slen$ - długość soli w bajtach, powinna być równa $hlen$.\n",
    "\n",
    "3) $M$ - bajty wiadomości do podpisania.\n",
    "\n",
    "4) $mgf1$ - Mask Generation Function 1.\n",
    "\n",
    "5) $emBits$ - pożądana długość sygnatury w bitach. Jest to najczęściej długość bitowa liczby modulus $n$ pomniejszona o jeden, czyli w naszym przypadku 2047.\n",
    "\n",
    "6) $emlen$ - długość sygnatury w bajtach, równa długości parametru $n$ wyrażonego w bajtach.\n"
   ]
  },
  {
   "attachments": {},
   "cell_type": "markdown",
   "metadata": {
    "id": "6-0Vzuzf_f81"
   },
   "source": [
    "Algorytm:\n",
    "\n",
    "1) Oblicz: $mHash = H(M)$.\n",
    "\n",
    "2) Jeżeli $emlen < hlen + slen + 2$ **zakończ i zwróć błąd**.\n",
    "\n",
    "3) Wygeneruj tablicę losowych bajtów $salt$ o długości $slen$.\n",
    "\n",
    "4) Oblicz: $M' = 0x00 00 00 00 00 00 00 00 || mHash || salt$. Długość $M'$ to $8 + hlen + slen$.\n",
    "\n",
    "5) Oblicz: $mHash' = H(M')$.\n",
    "\n",
    "6) Wygeneruj tablicę $PS$ składającą się z bajtów 0x00 o długości $emlen - slen - hlen - 2$.\n",
    "\n",
    "7) Oblicz: $DB = PS || 0x01 || salt$. Długość $DB$ powinna wynosić $emlen - hlen - 1$ bajtów.\n",
    "\n",
    "8) Oblicz: $dbMask = mgf1(mHash', emlen - hlen - 1)$.\n",
    "\n",
    "9) Oblicz: $maskedDB = DB ⊕ dbMask$.\n",
    "\n",
    "10) Ustaw $8 * emlen - emBits$ **najbardziej znaczących** bitów $maskedDB$ na wartości 0.\n",
    "\n",
    "11) Oblicz: $EM = maskedDB || mHash' || 0xbc$.\n",
    "\n",
    "12) Zwróć $EM$.\n"
   ]
  },
  {
   "attachments": {},
   "cell_type": "markdown",
   "metadata": {
    "id": "HWbbbw1DCGpr"
   },
   "source": [
    "## EMSA decoding"
   ]
  },
  {
   "attachments": {},
   "cell_type": "markdown",
   "metadata": {
    "id": "xR6QyzduCIoc"
   },
   "source": [
    "Parametry wejściowe:\n",
    "\n",
    "1) $H$ - funkcja skrótu SHA-256, oraz $hlen$ czyli długość zwracanego skrótu w bajtach.\n",
    "\n",
    "2) $slen$ - długość soli w bajtach, powinna być równa $hlen$.\n",
    "\n",
    "3) $EM$ - sygnatura wiadomości $M$.\n",
    "\n",
    "4) $M$ - bajty wiadomości do weryfikacji.\n",
    "\n",
    "4) $mgf1$ - Mask Generation Function 1.\n",
    "\n",
    "5) $emBits$ - długość sygnatury w bitach. Jest to najczęściej długość bitowa liczby modulus $n$ pomniejszona o jeden, czyli w naszym przypadku 2047.\n",
    "\n",
    "6) $emlen$ - długość sygnatury w bajtach, równa długości parametru $n$ wyrażonego w bajtach."
   ]
  },
  {
   "attachments": {},
   "cell_type": "markdown",
   "metadata": {
    "id": "MqZUQgT6CspI"
   },
   "source": [
    "Algorytm:\n",
    "\n",
    "1) Oblicz: $mHash = H(M)$.\n",
    "\n",
    "2) Jeżeli $emlen < hlen + slen + 2$ **zakończ i zwróć błąd weryfikacji**.\n",
    "\n",
    "3) Jeżeli ostatni bajt (najmniej znaczący) $EM$ nie ma wartości 0xbc **zakończ i zwróć błąd weryfikacji**.\n",
    "\n",
    "4) Podstaw $emlen - hlen - 1$ najbardziej znaczących bajtów do $maskedDB$ oraz kolejne $hlen$ bajtów do $mHash'$.\n",
    "\n",
    "5) Jeżeli $8 * emlen - emBits$ najbardziej znaczących bitów $maskedDB$ nie ma wartości 0, **zakończ i zwróć błąd weryfikacji**.\n",
    "\n",
    "6) Oblicz: $dbMask = mgf1(mHash', emlen - hlen - 1)$.\n",
    "\n",
    "7) Oblicz: $DB = maskedDB ⊕ dbMask$.\n",
    "\n",
    "8) Ustaw $8 * emlen - emBits$ najbardziej znaczących bitów $DB$ na 0.\n",
    "\n",
    "9) Jeżeli $emlen - hlen - slen - 2$ najbardziej znaczących bajtów $DB$ nie posiada wartości 0x00 lub gdy bajt na pozycji $emlen - hlen - slen - 1$ (licząc od najbardziej znaczącego) nie posiada wartości 0x01 **zakończ i zwróć błąd weryfikacji**.\n",
    "\n",
    "10) Przypisz do zmiennej $salt$ dokładnie $slen$ najmniej znaczących bajtów $DB$.\n",
    "\n",
    "11) Oblicz: $M' = 0x00 00 00 00 00 00 00 00 || mHash || salt$. Długość $M'$ to $8 + hlen + slen$.\n",
    "\n",
    "12) Oblicz $mHash'' = H(M')$.\n",
    "\n",
    "13) Jeżeli $mHash' \\neq mHash''$ **zakończ i zwróć błąd weryfikacji**, w przeciwnym razie **weryfikacja powiodła się**.\n"
   ]
  },
  {
   "attachments": {},
   "cell_type": "markdown",
   "metadata": {
    "id": "wrxJHSkyIvz5"
   },
   "source": [
    "**Zadanie 7**\n",
    "\n",
    "Zaprogramuj kodowanie i dekodowanie EMSA, a następnie popraw algorytmy tworzenia i weryfikacji podpisu cyfrowego RSA. Tworzenie podpisu powinno wyglądać tak, że wiadomość najpierw jest kodowana z wykorzystaniem EMSA, a później tworzony jest popdis z wykorzystaniem klucza prywatnego. Dekodowanie powinno wyglądać tak, że najpierw używany jest klucz publiczny do odtworzenia podpisu EMSA, a następnie wykorzystywane jest dekodowanie EMSA w celu weryfikacji."
   ]
  },
  {
   "cell_type": "code",
   "execution_count": 10,
   "metadata": {
    "colab": {
     "base_uri": "https://localhost:8080/"
    },
    "id": "S-TbQA4NJrl3",
    "outputId": "7d457629-5863-4a42-c133-0812798fa7a2"
   },
   "outputs": [
    {
     "name": "stdout",
     "output_type": "stream",
     "text": [
      "b'\\xc5!\\xdfY\\xa2\\x81:\\xa9dm~1w\\xf9\\x0f\\xa0N5N\\x85\\xb6A\\xf3\\xfcFm.\\xe7L\\x08\\xcd%'\n",
      "b'\\xc5!\\xdfY\\xa2\\x81:\\xa9dm~1w\\xf9\\x0f\\xa0N5N\\x85\\xb6A\\xf3\\xfcFm.\\xe7L\\x08\\xcd%'\n",
      "SUCCESS\n"
     ]
    },
    {
     "data": {
      "text/plain": [
       "True"
      ]
     },
     "execution_count": 10,
     "metadata": {},
     "output_type": "execute_result"
    }
   ],
   "source": [
    "m = \"Ala ma podpis\"\n",
    "\n",
    "def xor_bytes(a, b):\n",
    "  result = bytes(x ^ y for x, y in zip(a, b))\n",
    "  return result\n",
    "\n",
    "def zero_most_significant_bits(b, n):\n",
    "    mask = (1 << n) - 1 \n",
    "    b_new = bytearray(b)  \n",
    "    \n",
    "    for i in range(len(b_new)):\n",
    "        b_new[i] &= ~mask \n",
    "    \n",
    "        if n > 8:\n",
    "            mask = 0xFF  \n",
    "            n -= 8\n",
    "        else:\n",
    "            mask >>= n \n",
    "    \n",
    "    return bytes(b_new)\n",
    "\n",
    "\n",
    "def emsa_encoding(slen, M, emBits):\n",
    "  emlen = math.ceil(emBits/8)\n",
    "  hlen = 256 // 8\n",
    "  mlen = len(M)\n",
    "  mHash = hl.sha256(M).digest()\n",
    "  if emlen < hlen + slen + 2:\n",
    "    print('ERROR')\n",
    "    return None\n",
    "\n",
    "  salt = random.randbytes(slen)\n",
    "  MPrime = b'\\x00' * 8 + mHash + salt \n",
    "\n",
    "  mHashPrime = hl.sha256(MPrime).digest()\n",
    "  \n",
    "  PS = b'\\x00' * (emlen - slen - hlen -2)\n",
    "\n",
    "  DB = PS + b'\\x01' + salt\n",
    "\n",
    "  dbMask = mgf1(mHashPrime, emlen - hlen -1)\n",
    "  maskedDB = xor_bytes(DB, dbMask)\n",
    "  maskedDB = zero_most_significant_bits(maskedDB, 8*emlen - emBits)\n",
    "  EM = maskedDB + mHashPrime + b'\\xbc'\n",
    "  return EM\n",
    "\n",
    "def emsa_decoding(slen, EM, M, emBits):\n",
    "  emlen = math.ceil(emBits/8)\n",
    "  hlen = 256 // 8\n",
    "  mlen = len(M)\n",
    "  mHash = hl.sha256(M).digest()\n",
    "  if emlen < hlen + slen + 2:\n",
    "    print('ERROR')\n",
    "    return None\n",
    "  if hex(EM[-1]) != '0xbc':\n",
    "    print('ERROR')\n",
    "    return None\n",
    "  maskedDB = EM[:(emlen - hlen -1)]\n",
    "  mHashPrime = EM[(emlen- hlen-1): (emlen - hlen -1) + hlen]\n",
    "  dbMask = mgf1(mHashPrime, emlen - hlen -1)\n",
    "  DB = xor_bytes(maskedDB, dbMask)\n",
    "  DB = zero_most_significant_bits(DB, 8*emlen - emBits)\n",
    "  for i in range(emlen - hlen - slen - 2):\n",
    "    if DB[i] != 0:\n",
    "      print('ERROR 0')\n",
    "      return None\n",
    "  if DB[emlen - hlen - slen -2] != 1:\n",
    "    print('ERROR 1')\n",
    "    return None\n",
    "  \n",
    "  salt = DB[-slen:]\n",
    "  MPrime = b'\\x00' * 8 + mHash + salt\n",
    "  mHashBis = hl.sha256(MPrime).digest()\n",
    "  print(mHashPrime)\n",
    "  print(mHashBis)\n",
    "  if mHashPrime == mHashBis:\n",
    "    print(\"SUCCESS\")\n",
    "  else:\n",
    "    print(\"VERIFICATION FAILED\")\n",
    "  return mHashPrime == mHashBis\n",
    "\n",
    "\n",
    "EM = emsa_encoding(256//8, M.encode(), 2047)\n",
    "\n",
    "emsa_decoding(256//8, EM, M.encode(), 2047)"
   ]
  },
  {
   "cell_type": "code",
   "execution_count": 11,
   "metadata": {},
   "outputs": [
    {
     "name": "stdout",
     "output_type": "stream",
     "text": [
      "2706781031126678406837875379251672446692325473115390862049493482649841565366035686600306786383729539119692080009710710740124780741057128188916432604192128637673281790982375691441861475139743267917807417520627434983059625284323841545996468504133086230696280421481355449197980562665742867163570405526130367704989202817205314568416244757780920112511644739571442226563620046172492282642166992241034631732379158289286931084748183513865638731274063963982504986259942697327469748029861778919358376132134321278323107760557438011928108662732463247436717545252291339464332935433520792812450917679276880175677998160404397353873\n",
      "\n",
      "2576609446136810321284793642849579379527454191856329747264527660897419943862306273701113910862743553954351156540019741177436361715134805108682805972579941\n",
      "2576609446136810321284793642849579379527454191856329747264527660897419943862306273701113910862743553954351156540019741177436361715134805108682805972579941\n",
      "True\n"
     ]
    }
   ],
   "source": [
    "M = \"Ala ma kota\"\n",
    "\n",
    "hash_object = hl.sha256(M.encode())\n",
    "h = hash_object.hexdigest()\n",
    "h = encode_str(h)\n",
    "SIG = pow(h, d, n)\n",
    "print(SIG)\n",
    "\n",
    "VER = pow(SIG, e, n)\n",
    "print()\n",
    "print(VER)\n",
    "print(h)\n",
    "print(VER == h)"
   ]
  },
  {
   "cell_type": "code",
   "execution_count": 12,
   "metadata": {},
   "outputs": [
    {
     "name": "stdout",
     "output_type": "stream",
     "text": [
      "b'\\x8b\\x15\\x1d<\\xc8\\xdf\\xe3\\xd5\\x93p\\xdf\\x9e40\\xd71R\\xed\\x10\\xfad\\x96\\xc0\\xa1\\x87\\xb6~\\x18/\\x15\\x06\\xef'\n",
      "b'\\x8b\\x15\\x1d<\\xc8\\xdf\\xe3\\xd5\\x93p\\xdf\\x9e40\\xd71R\\xed\\x10\\xfad\\x96\\xc0\\xa1\\x87\\xb6~\\x18/\\x15\\x06\\xef'\n",
      "SUCCESS\n"
     ]
    },
    {
     "data": {
      "text/plain": [
       "True"
      ]
     },
     "execution_count": 12,
     "metadata": {},
     "output_type": "execute_result"
    }
   ],
   "source": [
    "def create_digital_signature(M):\n",
    "    EM = emsa_encoding(256//8, M, 2047)\n",
    "    EM_num = int.from_bytes(EM, byteorder='big')\n",
    "    SIG_num = pow(EM_num, d, n)\n",
    "    SIG = SIG_num.to_bytes((SIG_num.bit_length() + 7) // 8, byteorder='big')\n",
    "    return SIG, M\n",
    "\n",
    "def verify_digital_signature(SIG, M):\n",
    "    SIG_num = int.from_bytes(SIG, byteorder='big')\n",
    "    VER_num = pow(SIG_num, e, n)    \n",
    "    VER = VER_num.to_bytes((VER_num.bit_length() + 7) // 8, byteorder='big')\n",
    "    return emsa_decoding(256//8, VER, M, 2047) is True\n",
    "    \n",
    "\n",
    "SIG, EM = create_digital_signature(M.encode())\n",
    "verify_digital_signature(SIG,EM)"
   ]
  },
  {
   "attachments": {},
   "cell_type": "markdown",
   "metadata": {
    "id": "d7txLS64JZI-"
   },
   "source": [
    "## RSA - KEM\n",
    "\n",
    "RSA - KEM, czyli z ang. *Key Encapsulation Mechanism* to prosty algorytm dedykowany do wymiany klucza symetrycznego. Obie strony dysponują uzgodnioną funkcją skótu H. Instancja, która chce **otrzymać** tajny klucz do komunikacji symetrycznej generuje klucze RSA i udostępnia swój klucz publiczny. Instancja, która chce wygenerować tajny klucz do komunikacji symetrycznej dysponuje kluczem publicznym instancji, która chce go otrzymać."
   ]
  },
  {
   "attachments": {},
   "cell_type": "markdown",
   "metadata": {
    "id": "tl7cu30PJ1lk"
   },
   "source": [
    "Instancja generująca klucz symetryczny:\n",
    "\n",
    "1) Znajdź losową liczbę $RAND$ spełniającą warunki OAEP.\n",
    "\n",
    "2) Oblicz: $KEY = H(RAND)$. Jeżeli trzeba, przytnij $KEY$ do odpowiedniej długości.\n",
    "\n",
    "3) Oblicz: $CIPHERED\\_KEY = RSA\\_OAEP\\_ENCODING(KEY, (e, n))$.\n",
    "\n",
    "4) Wyślij $CIPHERED\\_KEY$."
   ]
  },
  {
   "attachments": {},
   "cell_type": "markdown",
   "metadata": {
    "id": "oFB9JAwULw70"
   },
   "source": [
    "Instancja otrzymująca zaszyfrowany klucz symetryczny:\n",
    "\n",
    "1) Oblicz: $KEY = RSA\\_OAEP\\_DECODING(CIPHERED\\_KEY, (d, n))$\n",
    "\n",
    "2) Jeżeli trzeba przytnij $KEY$ do odpowiedniej długości."
   ]
  },
  {
   "attachments": {},
   "cell_type": "markdown",
   "metadata": {
    "id": "386c_pDZMSRG"
   },
   "source": [
    "Np. AES występuje w wersji 128b, 192b i 256b. Jeżeli jako H przyjmiemy więc SHA-256, nie trzeba przycinać klucza dla algorytmu AES-256. W przeciwnym razie należy klucz odpowiednio przyciąć (z lewej lub prawej, byle obie strony tak samo) i to ta wartość staje się kluczem symetrycznym."
   ]
  },
  {
   "attachments": {},
   "cell_type": "markdown",
   "metadata": {
    "id": "7N66NPBBMpLS"
   },
   "source": [
    "**Zadanie 8**\n",
    "\n",
    "Zasymuluj takową wymianę (bez przycinania klucza)."
   ]
  },
  {
   "cell_type": "code",
   "execution_count": 13,
   "metadata": {},
   "outputs": [
    {
     "name": "stdout",
     "output_type": "stream",
     "text": [
      "KEY:  b'\\x03\\x9d\\xdb\\x91\\xc6V\\x06\\xe7Y\"\\x01\\x99j\\x90N\\xaf\\xfe\\x1aPkcY\\x93\\xd5\\x1a\\xadU\\xac\\xfeB#f'\n",
      "b'\\x03\\x9d\\xdb\\x91\\xc6V\\x06\\xe7Y\"\\x01\\x99j\\x90N\\xaf\\xfe\\x1aPkcY\\x93\\xd5\\x1a\\xadU\\xac\\xfeB#f'\n",
      "message number  96730105070306455342587706473516848117813292342586937000421802992337869889190354802912460103830075714428033414078571150445744716321255707634608994700045271930358164337015429764644188242420107068204196817047761701510006950514577751476976567629187240759412753770008925931551982196715226744720234724569121405367202131555769858251975144314829198627486160087289163580460582123183269702192078700882203217789121350543411483723588855236442144047016260597284456569735039097052988884434468070482930001580287430367305651149448075828586679963173558785237692734820367178323241083909122791481722735928793982323457999560034882497\n",
      "\n",
      "\n",
      "ciphered  b'\\xa0\\xd9\\xd4\\xb45\\xe3\\xd4\\x93O\\xe0\\x94\\x8b\\r\\x07\\xd0R\\x02\\x8f<\\x94\\xf5\\xbfg\\xd3\\x8d\\x98Su!\\xe0\\xae\\xa8\\x1e\\xbfq\\xfb\\xcd\\x9e\\xc6&\\xb4\\xb2\\xee\\x91\\x0e\\xdeA\\xd0e6|\\x00\\xf3\\xe8\\xcdx\\x9b,\\xf0\\xca\\x87\\xdf\\x00\\xb7\\xce\\xb3?\\xed\\xa0{\\xcan\\xa1\\n2\\x1d \\x0bv\\xaf\\xdcq\\xdcP\\xcf\\x96\\xe2\\xca\\xb1\\x11\\xcb\\x82f\\xf8\\x94\\x1d\\x18i\\xdfe\\t\\x94V\\xfc9$9Rc\\xd9\\xa1\\xfb2\\x0e\\x0es;\\'\\x18pZ\\x19\\xf6\\xdb\\xd3\\x98\\x02\\xa1\\xd4\\x88\\xfd\\x12\\xb0\\xbe\\xc0\\x15\\x83\\xed\\x00,\\x11\\x0e\\x19\\xea\\xecm\\xe3\\x94PN\\xba[\\x1fn\\x99\\xf3v\\x99\\x8a3Y\\xf9\\xd8x\\xd0\\xaa{\\x85\\x06\\xbe\\x81:1\\xff9v\\rY\"\\xd2\\xfe4\\x80K\\x15a+Ed\\xd4\\x08\\x8e\\x14\\xd7:\\xc1\\xd6q\\x84E6\\xb5\\xc7+\\x14\\xea\\x92\\xf9\\xf3}\\xe0\\x11\\xd8q\\x9c\\x0e|\\x1e\\xb1\\xf8\\xe0\\xce5O\\x96\\xb6\\x1a\\xa8U\\x83R-\\xda\\xf5+{\\xe9\\xef\\x9d\\xb5\\xe8\\x14\\x1a;\\x1fl\\xfdWx>z\\xd5\\x9a\\x89\\x89<'\n",
      "decrypted message number  96730105070306455342587706473516848117813292342586937000421802992337869889190354802912460103830075714428033414078571150445744716321255707634608994700045271930358164337015429764644188242420107068204196817047761701510006950514577751476976567629187240759412753770008925931551982196715226744720234724569121405367202131555769858251975144314829198627486160087289163580460582123183269702192078700882203217789121350543411483723588855236442144047016260597284456569735039097052988884434468070482930001580287430367305651149448075828586679963173558785237692734820367178323241083909122791481722735928793982323457999560034882497\n",
      "255\n",
      "\n",
      "\n",
      "DECRYPTED KEY:  b'\\x03\\x9d\\xdb\\x91\\xc6V\\x06\\xe7Y\"\\x01\\x99j\\x90N\\xaf\\xfe\\x1aPkcY\\x93\\xd5\\x1a\\xadU\\xac\\xfeB#f'\n",
      "DEC KEY == KEY:  True\n"
     ]
    }
   ],
   "source": [
    "def RSA_KEM_enc(key):\n",
    "    C = encrypt_oaep(e, n, key)\n",
    "    C = C.to_bytes((C.bit_length() + 7) // 8, byteorder='big')\n",
    "    return C\n",
    "\n",
    "def RSA_KEM_dec(C_key):\n",
    "    C_key_num = int.from_bytes(C_key, byteorder='big')\n",
    "    key = decrypt_oaep(d, n, C_key_num, 256//8)\n",
    "    return key\n",
    "\n",
    "rand = cu.getRandomNBitInteger(2048)\n",
    "\n",
    "key = hl.sha256(rand.to_bytes(2048//8, byteorder='big')).digest()\n",
    "print('KEY: ', key)\n",
    "C = RSA_KEM_enc(key)\n",
    "print('\\n\\nciphered ', C)\n",
    "decrypted_key = RSA_KEM_dec(C)\n",
    "print('\\n\\nDECRYPTED KEY: ', decrypted_key)\n",
    "print('DEC KEY == KEY: ', decrypted_key == key)"
   ]
  }
 ],
 "metadata": {
  "@webio": {
   "lastCommId": null,
   "lastKernelId": null
  },
  "colab": {
   "provenance": []
  },
  "kernelspec": {
   "display_name": "Python 3 (ipykernel)",
   "language": "python",
   "name": "python3"
  },
  "language_info": {
   "codemirror_mode": {
    "name": "ipython",
    "version": 3
   },
   "file_extension": ".py",
   "mimetype": "text/x-python",
   "name": "python",
   "nbconvert_exporter": "python",
   "pygments_lexer": "ipython3",
   "version": "3.10.6"
  }
 },
 "nbformat": 4,
 "nbformat_minor": 1
}
